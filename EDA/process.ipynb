{
 "cells": [
  {
   "cell_type": "code",
   "execution_count": 6,
   "id": "c7ec7228",
   "metadata": {},
   "outputs": [
    {
     "name": "stdout",
     "output_type": "stream",
     "text": [
      "--- 피처 엔지니어링 스크립트 시작 ---\n",
      "✅ Step 1: 'merged_data.csv' 로딩 성공!\n",
      "  - 초기 데이터 형태: (86590, 39)\n"
     ]
    }
   ],
   "source": [
    "import pandas as pd\n",
    "import numpy as np\n",
    "\n",
    "print(\"--- 피처 엔지니어링 스크립트 시작 ---\")\n",
    "\n",
    "# ==============================================================================\n",
    "# 1. 데이터 불러오기\n",
    "# ==============================================================================\n",
    "try:\n",
    "    # process.py에서 저장한 merged_data.csv 파일을 불러옵니다.\n",
    "    df = pd.read_csv(\"./merged_data.csv\")\n",
    "    print(\"✅ Step 1: 'merged_data.csv' 로딩 성공!\")\n",
    "    print(f\"  - 초기 데이터 형태: {df.shape}\")\n",
    "except FileNotFoundError:\n",
    "    print(\"❌ 오류: 'merged_data.csv' 파일을 찾을 수 없습니다. process.py를 먼저 실행해주세요.\")\n",
    "    # 파일이 없으면 스크립트를 더 이상 진행하지 않습니다.\n",
    "    exit()"
   ]
  },
  {
   "cell_type": "code",
   "execution_count": 7,
   "id": "f750e9f3",
   "metadata": {},
   "outputs": [
    {
     "name": "stdout",
     "output_type": "stream",
     "text": [
      "✅ Step 2: 특수 값(-999999.9)을 결측치(NaN)로 변환 완료!\n"
     ]
    }
   ],
   "source": [
    "# ==============================================================================\n",
    "# 2. 특수 값(-999999.9)을 결측치(NaN)로 변환\n",
    "# ==============================================================================\n",
    "# 실수형(float) 컬럼에만 특수 값이 존재하므로 해당 컬럼들을 선택합니다.\n",
    "float_cols = df.select_dtypes(include=['float64']).columns\n",
    "df[float_cols] = df[float_cols].replace(-999999.9, np.nan)\n",
    "print(\"✅ Step 2: 특수 값(-999999.9)을 결측치(NaN)로 변환 완료!\")\n"
   ]
  },
  {
   "cell_type": "code",
   "execution_count": 8,
   "id": "9aa88ed8",
   "metadata": {},
   "outputs": [
    {
     "name": "stdout",
     "output_type": "stream",
     "text": [
      "✅ Step 3: 'SURVIVAL_DAYS' 파생 변수 생성 완료!\n"
     ]
    }
   ],
   "source": [
    "# ==============================================================================\n",
    "# 3. '생존 기간' 등 시간 기반 파생 변수 생성\n",
    "# ==============================================================================\n",
    "# 개설일(ARE_D)과 폐업일(MCT_ME_D)을 날짜 형식(datetime)으로 변환합니다.\n",
    "# format='%Y%m%d'는 'YYYYMMDD' 형식의 숫자를 날짜로 인식하라는 의미입니다.\n",
    "# errors='coerce'는 변환 중 오류가 발생하면 해당 값을 NaT(Not a Time)으로 처리합니다.\n",
    "df['ARE_DT'] = pd.to_datetime(df['ARE_D'], format='%Y%m%d', errors='coerce')\n",
    "df['MCT_ME_DT'] = pd.to_datetime(df['MCT_ME_D'], format='%Y%m%d', errors='coerce')\n",
    "\n",
    "# 폐업하지 않은 가게(MCT_ME_DT가 NaT인 경우)의 폐업일은\n",
    "# 데이터의 마지막 시점인 2024년 12월 31일로 가정하여 채워줍니다.\n",
    "LATEST_DATE = pd.to_datetime('20241231', format='%Y%m%d')\n",
    "df['MCT_ME_DT'] = df['MCT_ME_DT'].fillna(LATEST_DATE)\n",
    "\n",
    "# 가게의 '총 운영일수'를 계산하여 새로운 컬럼 'SURVIVAL_DAYS'를 만듭니다.\n",
    "df['SURVIVAL_DAYS'] = (df['MCT_ME_DT'] - df['ARE_DT']).dt.days\n",
    "\n",
    "print(\"✅ Step 3: 'SURVIVAL_DAYS' 파생 변수 생성 완료!\")\n",
    "\n"
   ]
  },
  {
   "cell_type": "code",
   "execution_count": 9,
   "id": "d5b1b13c",
   "metadata": {},
   "outputs": [
    {
     "name": "stdout",
     "output_type": "stream",
     "text": [
      "✅ Step 4: 모든 순서형 변수를 순위(Rank)로 변환 완료!\n"
     ]
    }
   ],
   "source": [
    "# ==============================================================================\n",
    "# 4. 순서형(Ordinal) 변수를 숫자(Rank)로 변환\n",
    "# ==============================================================================\n",
    "# 변환할 컬럼 목록을 정의합니다. 데이터 명세서에 나온 6개 구간 컬럼들입니다.\n",
    "ordinal_cols = [\n",
    "    'MCT_OPE_MS_CN', # 가맹점 운영개월수 구간\n",
    "    'RC_M1_SAA',       # 매출금액 구간\n",
    "    'RC_M1_TO_UE_CT',  # 매출건수 구간\n",
    "    'RC_M1_UE_CUS_CN', # 이용고객수 구간\n",
    "    'RC_M1_AV_NP_AT',  # 건당결제액 구간\n",
    "]\n",
    "\n",
    "# 변환에 사용할 매핑(mapping) 딕셔너리를 정의합니다.\n",
    "# 데이터 명세서에 따라 숫자가 낮을수록 상위 구간을 의미합니다.\n",
    "ranking_map = {\n",
    "    '1_상위1구간': 1,\n",
    "    '2_10-25%': 2,\n",
    "    '3_25-50%': 3,\n",
    "    '4_50-75%': 4,\n",
    "    '5_75-90%': 5,\n",
    "    '6_90%초과(하위 10% 이하)': 6\n",
    "}\n",
    "\n",
    "# for 루프를 사용해 목록에 있는 모든 컬럼을 한 번에 변환합니다.\n",
    "# 새로운 컬럼 이름은 기존 이름 뒤에 '_RANK'를 붙여 만듭니다.\n",
    "for col in ordinal_cols:\n",
    "    df[col + '_RANK'] = df[col].map(ranking_map)\n",
    "\n",
    "# APV_CE_RAT 컬럼은 구간 이름이 약간 다르므로 별도로 처리합니다.\n",
    "# (만약 이 컬럼의 구간 이름이 같다면 위 목록에 포함시켜도 됩니다.)\n",
    "apv_ce_rat_map = {\n",
    "    '1_상위1구간': 1,\n",
    "    '2_상위2구간': 2,\n",
    "    '3_상위3구간': 3,\n",
    "    '4_상위4구간': 4,\n",
    "    '5_상위5구간': 5\n",
    "}\n",
    "df['APV_CE_RAT_RANK'] = df['APV_CE_RAT'].map(apv_ce_rat_map)\n",
    "\n",
    "\n",
    "print(\"✅ Step 4: 모든 순서형 변수를 순위(Rank)로 변환 완료!\")\n",
    "\n"
   ]
  },
  {
   "cell_type": "code",
   "execution_count": 10,
   "id": "a2b5be0a",
   "metadata": {},
   "outputs": [
    {
     "name": "stdout",
     "output_type": "stream",
     "text": [
      "\n",
      "--- 최종 데이터 정보 ---\n",
      "<class 'pandas.core.frame.DataFrame'>\n",
      "RangeIndex: 86590 entries, 0 to 86589\n",
      "Data columns (total 48 columns):\n",
      " #   Column                    Non-Null Count  Dtype         \n",
      "---  ------                    --------------  -----         \n",
      " 0   ENCODED_MCT               86590 non-null  object        \n",
      " 1   TA_YM                     86590 non-null  int64         \n",
      " 2   MCT_OPE_MS_CN             86590 non-null  object        \n",
      " 3   RC_M1_SAA                 86590 non-null  object        \n",
      " 4   RC_M1_TO_UE_CT            86590 non-null  object        \n",
      " 5   RC_M1_UE_CUS_CN           86590 non-null  object        \n",
      " 6   RC_M1_AV_NP_AT            86590 non-null  object        \n",
      " 7   APV_CE_RAT                79958 non-null  object        \n",
      " 8   DLV_SAA_RAT               29245 non-null  float64       \n",
      " 9   M1_SME_RY_SAA_RAT         86590 non-null  float64       \n",
      " 10  M1_SME_RY_CNT_RAT         86590 non-null  float64       \n",
      " 11  M12_SME_RY_SAA_PCE_RT     86590 non-null  float64       \n",
      " 12  M12_SME_BZN_SAA_PCE_RT    86590 non-null  float64       \n",
      " 13  M12_SME_RY_ME_MCT_RAT     86590 non-null  float64       \n",
      " 14  M12_SME_BZN_ME_MCT_RAT    65171 non-null  float64       \n",
      " 15  M12_MAL_1020_RAT          84586 non-null  float64       \n",
      " 16  M12_MAL_30_RAT            84586 non-null  float64       \n",
      " 17  M12_MAL_40_RAT            84586 non-null  float64       \n",
      " 18  M12_MAL_50_RAT            84586 non-null  float64       \n",
      " 19  M12_MAL_60_RAT            84586 non-null  float64       \n",
      " 20  M12_FME_1020_RAT          84586 non-null  float64       \n",
      " 21  M12_FME_30_RAT            84586 non-null  float64       \n",
      " 22  M12_FME_40_RAT            84586 non-null  float64       \n",
      " 23  M12_FME_50_RAT            84586 non-null  float64       \n",
      " 24  M12_FME_60_RAT            84586 non-null  float64       \n",
      " 25  MCT_UE_CLN_REU_RAT        84947 non-null  float64       \n",
      " 26  MCT_UE_CLN_NEW_RAT        84947 non-null  float64       \n",
      " 27  RC_M1_SHC_RSD_UE_CLN_RAT  79263 non-null  float64       \n",
      " 28  RC_M1_SHC_WP_UE_CLN_RAT   79263 non-null  float64       \n",
      " 29  RC_M1_SHC_FLP_UE_CLN_RAT  79263 non-null  float64       \n",
      " 30  MCT_BSE_AR                86590 non-null  object        \n",
      " 31  MCT_NM                    86590 non-null  object        \n",
      " 32  MCT_BRD_NUM               11725 non-null  object        \n",
      " 33  MCT_SIGUNGU_NM            86590 non-null  object        \n",
      " 34  HPSN_MCT_ZCD_NM           86590 non-null  object        \n",
      " 35  HPSN_MCT_BZN_CD_NM        65171 non-null  object        \n",
      " 36  ARE_D                     86590 non-null  int64         \n",
      " 37  MCT_ME_D                  2334 non-null   float64       \n",
      " 38  TREND_RATIO               86590 non-null  float64       \n",
      " 39  ARE_DT                    86590 non-null  datetime64[ns]\n",
      " 40  MCT_ME_DT                 86590 non-null  datetime64[ns]\n",
      " 41  SURVIVAL_DAYS             86590 non-null  int64         \n",
      " 42  MCT_OPE_MS_CN_RANK        77899 non-null  float64       \n",
      " 43  RC_M1_SAA_RANK            77791 non-null  float64       \n",
      " 44  RC_M1_TO_UE_CT_RANK       77871 non-null  float64       \n",
      " 45  RC_M1_UE_CUS_CN_RANK      77819 non-null  float64       \n",
      " 46  RC_M1_AV_NP_AT_RANK       77900 non-null  float64       \n",
      " 47  APV_CE_RAT_RANK           74144 non-null  float64       \n",
      "dtypes: datetime64[ns](2), float64(30), int64(3), object(13)\n",
      "memory usage: 31.7+ MB\n",
      "\n",
      "--- 최종 데이터 샘플 (상위 5개) ---\n",
      "   SURVIVAL_DAYS  MCT_OPE_MS_CN_RANK  RC_M1_SAA_RANK  RC_M1_TO_UE_CT_RANK  \\\n",
      "0           1040                 4.0             5.0                  5.0   \n",
      "1           1040                 4.0             6.0                  6.0   \n",
      "2           3891                 2.0             3.0                  4.0   \n",
      "3           3891                 2.0             3.0                  4.0   \n",
      "4           3891                 2.0             4.0                  4.0   \n",
      "\n",
      "   RC_M1_UE_CUS_CN_RANK  RC_M1_AV_NP_AT_RANK  APV_CE_RAT_RANK  \n",
      "0                   5.0                  5.0              1.0  \n",
      "1                   6.0                  6.0              NaN  \n",
      "2                   4.0                  2.0              NaN  \n",
      "3                   4.0                  2.0              NaN  \n",
      "4                   4.0                  2.0              1.0  \n",
      "\n",
      "🎉 모든 작업 완료! 최종 데이터가 './featured_data.csv' 파일로 저장되었습니다.\n"
     ]
    }
   ],
   "source": [
    "# ==============================================================================\n",
    "# 5. 최종 데이터 확인 및 저장\n",
    "# ==============================================================================\n",
    "print(\"\\n--- 최종 데이터 정보 ---\")\n",
    "# 데이터의 기본 정보와 결측치 현황을 다시 한번 확인합니다.\n",
    "df.info()\n",
    "\n",
    "# 변환이 잘 되었는지 상위 5개 행을 출력해 확인합니다.\n",
    "print(\"\\n--- 최종 데이터 샘플 (상위 5개) ---\")\n",
    "# 새로 생성된 컬럼들을 위주로 확인합니다.\n",
    "new_cols = ['SURVIVAL_DAYS'] + [col + '_RANK' for col in ordinal_cols] + ['APV_CE_RAT_RANK']\n",
    "print(df[new_cols].head())\n",
    "\n",
    "# 최종 결과물을 새로운 CSV 파일로 저장합니다.\n",
    "output_path = \"./featured_data.csv\"\n",
    "# index=False: 불필요한 인덱스 컬럼이 저장되지 않도록 합니다.\n",
    "# encoding='utf-8-sig': 엑셀에서 열 때 한글이 깨지지 않도록 합니다.\n",
    "df.to_csv(output_path, index=False, encoding='utf-8-sig')\n",
    "\n",
    "print(f\"\\n🎉 모든 작업 완료! 최종 데이터가 '{output_path}' 파일로 저장되었습니다.\")"
   ]
  }
 ],
 "metadata": {
  "kernelspec": {
   "display_name": "Python 3",
   "language": "python",
   "name": "python3"
  },
  "language_info": {
   "codemirror_mode": {
    "name": "ipython",
    "version": 3
   },
   "file_extension": ".py",
   "mimetype": "text/x-python",
   "name": "python",
   "nbconvert_exporter": "python",
   "pygments_lexer": "ipython3",
   "version": "3.11.9"
  }
 },
 "nbformat": 4,
 "nbformat_minor": 5
}
