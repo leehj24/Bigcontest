{
 "cells": [
  {
   "cell_type": "markdown",
   "id": "b5bbc833",
   "metadata": {},
   "source": [
    "#### 위경도변환 그래프생성"
   ]
  },
  {
   "cell_type": "code",
   "execution_count": 1,
   "id": "4ddf6d8c",
   "metadata": {},
   "outputs": [
    {
     "name": "stdout",
     "output_type": "stream",
     "text": [
      "--- 그래프 생성을 위한 지오코딩 시작 ---\n",
      "✅ Step 1: 'node_features.csv' 로딩 성공!\n"
     ]
    }
   ],
   "source": [
    "import pandas as pd\n",
    "from geopy.geocoders import Nominatim\n",
    "import time\n",
    "from tqdm import tqdm\n",
    "import numpy as np\n",
    "print(\"--- 그래프 생성을 위한 지오코딩 시작 ---\")\n",
    "\n",
    "# ==============================================================================\n",
    "# 1. 노드 특징 데이터 불러오기\n",
    "# ==============================================================================\n",
    "try:\n",
    "    df = pd.read_csv(\"node_features.csv\")\n",
    "    print(\"✅ Step 1: 'node_features.csv' 로딩 성공!\")\n",
    "except FileNotFoundError:\n",
    "    print(\"❌ 오류: 'node_features.csv' 파일을 찾을 수 없습니다. 이전 단계를 먼저 실행해주세요.\")\n",
    "    exit()"
   ]
  },
  {
   "cell_type": "code",
   "execution_count": 2,
   "id": "5d337fb7",
   "metadata": {},
   "outputs": [
    {
     "name": "stdout",
     "output_type": "stream",
     "text": [
      "\n",
      "--- Step 2: 주소 -> 위경도 변환 작업 시작 (시간이 다소 소요될 수 있습니다) ---\n"
     ]
    },
    {
     "name": "stderr",
     "output_type": "stream",
     "text": [
      "100%|██████████| 4185/4185 [1:53:13<00:00,  1.62s/it]  \n"
     ]
    },
    {
     "name": "stdout",
     "output_type": "stream",
     "text": [
      "\n",
      "✅ Step 2: 지오코딩 작업 완료!\n",
      "  - 총 4185개 주소 중 4151개 변환 성공\n"
     ]
    }
   ],
   "source": [
    "\n",
    "# ==============================================================================\n",
    "# 2. 지오코딩을 통해 주소를 위경도 좌표로 변환\n",
    "# ==============================================================================\n",
    "# Nominatim 지오코더 초기화 (공개 서비스이므로 사용 정책 존중 필요)\n",
    "geolocator = Nominatim(user_agent=\"MarketQuantum-Project\")\n",
    "\n",
    "# 위도와 경도를 저장할 리스트 생성\n",
    "latitudes = []\n",
    "longitudes = []\n",
    "\n",
    "print(\"\\n--- Step 2: 주소 -> 위경도 변환 작업 시작 (시간이 다소 소요될 수 있습니다) ---\")\n",
    "# tqdm: 진행 상태를 시각적으로 보여주는 라이브러리\n",
    "for address in tqdm(df['MCT_BSE_AR']):\n",
    "    try:\n",
    "        # 지오코딩 실행\n",
    "        location = geolocator.geocode(address)\n",
    "        \n",
    "        if location:\n",
    "            latitudes.append(location.latitude)\n",
    "            longitudes.append(location.longitude)\n",
    "        else:\n",
    "            latitudes.append(np.nan) # 주소를 찾지 못한 경우 결측치(NaN) 처리\n",
    "            longitudes.append(np.nan)\n",
    "            \n",
    "        # 중요: 공개 API의 과도한 사용을 막기 위해 각 요청 사이에 1초의 지연을 줍니다.\n",
    "        time.sleep(1)\n",
    "\n",
    "    except Exception as e:\n",
    "        print(f\"오류 발생: {e}\")\n",
    "        latitudes.append(np.nan)\n",
    "        longitudes.append(np.nan)\n",
    "\n",
    "# 변환된 위경도 정보를 데이터프레임에 새로운 컬럼으로 추가\n",
    "df['latitude'] = latitudes\n",
    "df['longitude'] = longitudes\n",
    "\n",
    "print(\"\\n✅ Step 2: 지오코딩 작업 완료!\")\n",
    "print(f\"  - 총 {len(df)}개 주소 중 {df['latitude'].notna().sum()}개 변환 성공\")"
   ]
  },
  {
   "cell_type": "code",
   "execution_count": 3,
   "id": "82c367e7",
   "metadata": {},
   "outputs": [
    {
     "name": "stdout",
     "output_type": "stream",
     "text": [
      "\n",
      "--- 위경도 변환 결과 (상위 5개) ---\n",
      "  ENCODED_MCT            MCT_BSE_AR   latitude   longitude\n",
      "0  000F03E44A   서울특별시 성동구 왕십리로4가길 9  37.545333  127.046493\n",
      "1  002816BA73    서울 성동구 청계천로10나길 78  37.570230  127.035313\n",
      "2  003473B465     서울특별시 성동구 서울숲길 55  37.547951  127.040910\n",
      "3  003AC99735  서울특별시 성동구 용답중앙15길 12  37.564492  127.053856\n",
      "4  0041E4E5AE   서울특별시 성동구 용답중앙15길 1  37.563956  127.052843\n",
      "\n",
      "--- 변환 실패(결측치) 개수 ---\n",
      "latitude     34\n",
      "longitude    34\n",
      "dtype: int64\n",
      "\n",
      "🎉 모든 작업 완료! 위경도 좌표가 추가된 데이터가 'nodes_with_coords.csv' 파일로 저장되었습니다.\n"
     ]
    }
   ],
   "source": [
    "# ==============================================================================\n",
    "# 3. 결과 확인 및 저장\n",
    "# ==============================================================================\n",
    "print(\"\\n--- 위경도 변환 결과 (상위 5개) ---\")\n",
    "print(df[['ENCODED_MCT', 'MCT_BSE_AR', 'latitude', 'longitude']].head())\n",
    "\n",
    "# 결측치 개수 확인\n",
    "print(\"\\n--- 변환 실패(결측치) 개수 ---\")\n",
    "print(df[['latitude', 'longitude']].isnull().sum())\n",
    "\n",
    "# 다음 단계에서 사용할 수 있도록 위경도 좌표가 추가된 데이터를 저장합니다.\n",
    "output_path = \"nodes_with_coords.csv\"\n",
    "df.to_csv(output_path, index=False, encoding='utf-8-sig')\n",
    "\n",
    "print(f\"\\n🎉 모든 작업 완료! 위경도 좌표가 추가된 데이터가 '{output_path}' 파일로 저장되었습니다.\")"
   ]
  },
  {
   "cell_type": "markdown",
   "id": "86726757",
   "metadata": {},
   "source": [
    "##### 엣지리스트"
   ]
  },
  {
   "cell_type": "code",
   "execution_count": 5,
   "id": "dfad0964",
   "metadata": {},
   "outputs": [
    {
     "name": "stdout",
     "output_type": "stream",
     "text": [
      "Requirement already satisfied: pandas in e:\\anaconda\\lib\\site-packages (2.2.2)\n",
      "Requirement already satisfied: numpy in e:\\anaconda\\lib\\site-packages (1.26.4)\n",
      "Collecting haversine\n",
      "  Downloading haversine-2.9.0-py2.py3-none-any.whl.metadata (5.8 kB)\n",
      "Requirement already satisfied: tqdm in e:\\anaconda\\lib\\site-packages (4.66.5)\n",
      "Requirement already satisfied: python-dateutil>=2.8.2 in e:\\anaconda\\lib\\site-packages (from pandas) (2.9.0.post0)\n",
      "Requirement already satisfied: pytz>=2020.1 in e:\\anaconda\\lib\\site-packages (from pandas) (2024.1)\n",
      "Requirement already satisfied: tzdata>=2022.7 in e:\\anaconda\\lib\\site-packages (from pandas) (2023.3)\n",
      "Requirement already satisfied: colorama in e:\\anaconda\\lib\\site-packages (from tqdm) (0.4.6)\n",
      "Requirement already satisfied: six>=1.5 in e:\\anaconda\\lib\\site-packages (from python-dateutil>=2.8.2->pandas) (1.16.0)\n",
      "Downloading haversine-2.9.0-py2.py3-none-any.whl (7.7 kB)\n",
      "Installing collected packages: haversine\n",
      "Successfully installed haversine-2.9.0\n"
     ]
    }
   ],
   "source": [
    "!pip install pandas numpy haversine tqdm"
   ]
  },
  {
   "cell_type": "code",
   "execution_count": 1,
   "id": "b9b17f3e",
   "metadata": {},
   "outputs": [
    {
     "name": "stdout",
     "output_type": "stream",
     "text": [
      "--- '엣지 리스트' 생성을 통한 그래프 완성 시작 ---\n",
      "✅ Step 1: 'nodes_with_coords.csv' 로딩 성공!\n",
      "✅ Step 2: 결측치 제거 완료! 총 4151개의 가게로 거리 계산을 시작합니다.\n",
      "\n",
      "--- Step 3: 100m 이내 가게들을 연결하는 엣지 리스트 생성 중 ---\n"
     ]
    },
    {
     "name": "stderr",
     "output_type": "stream",
     "text": [
      "100%|██████████| 8613325/8613325 [02:28<00:00, 58121.05it/s]\n"
     ]
    },
    {
     "name": "stdout",
     "output_type": "stream",
     "text": [
      "\n",
      "✅ Step 3: 엣지 리스트 생성 완료! 총 72426개의 연결(엣지)을 찾았습니다.\n",
      "\n",
      "--- 생성된 엣지 리스트 샘플 (상위 5개) ---\n",
      "       source      target\n",
      "0  000F03E44A  01EBAA3D0F\n",
      "1  000F03E44A  02EECADFE6\n",
      "2  000F03E44A  1C4665B740\n",
      "3  000F03E44A  268A868E38\n",
      "4  000F03E44A  2791AFFA12\n",
      "\n",
      "🎉 그래프 완성! AI가 학습할 엣지 리스트가 './edge_list.csv' 파일로 저장되었습니다.\n"
     ]
    }
   ],
   "source": [
    "import pandas as pd\n",
    "import numpy as np\n",
    "from haversine import haversine, Unit\n",
    "from itertools import combinations\n",
    "from tqdm import tqdm\n",
    "\n",
    "print(\"--- '엣지 리스트' 생성을 통한 그래프 완성 시작 ---\")\n",
    "\n",
    "# ==============================================================================\n",
    "# 1. 위경도 좌표 데이터 불러오기\n",
    "# ==============================================================================\n",
    "try:\n",
    "    # 지오코딩을 통해 위경도 좌표가 추가된 파일을 불러옵니다.\n",
    "    df = pd.read_csv(\"./nodes_with_coords.csv\")\n",
    "    print(\"✅ Step 1: 'nodes_with_coords.csv' 로딩 성공!\")\n",
    "except FileNotFoundError:\n",
    "    print(\"❌ 오류: 'nodes_with_coords.csv' 파일을 찾을 수 없습니다. 이전 단계를 먼저 실행해주세요.\")\n",
    "    exit()\n",
    "\n",
    "\n",
    "# ==============================================================================\n",
    "# 2. 엣지(Edge) 생성을 위한 데이터 정제\n",
    "# ==============================================================================\n",
    "# 지오코딩에 실패한 (위경도 값이 없는) 가게는 거리 계산이 불가능하므로 제외합니다.\n",
    "df_clean = df.dropna(subset=['latitude', 'longitude']).reset_index(drop=True)\n",
    "print(f\"✅ Step 2: 결측치 제거 완료! 총 {len(df_clean)}개의 가게로 거리 계산을 시작합니다.\")\n",
    "\n",
    "\n",
    "# ==============================================================================\n",
    "# 3. '엣지 리스트' 생성\n",
    "# ==============================================================================\n",
    "# 엣지(연결)를 정의할 거리 기준 설정 (단위: 미터)\n",
    "# 예: 100m 안에 있는 가게들은 서로 '인접'해있다고 정의\n",
    "DISTANCE_THRESHOLD_METERS = 100\n",
    "\n",
    "# 연결된 가게 쌍(엣지)을 저장할 리스트\n",
    "edge_list = []\n",
    "\n",
    "print(f\"\\n--- Step 3: {DISTANCE_THRESHOLD_METERS}m 이내 가게들을 연결하는 엣지 리스트 생성 중 ---\")\n",
    "\n",
    "# combinations는 모든 가능한 가게 쌍을 중복 없이 만들어줍니다. (예: (A,B), (A,C), (B,C)...)\n",
    "# tqdm을 이용해 진행 상황을 확인합니다.\n",
    "for i, j in tqdm(combinations(df_clean.index, 2), total=len(df_clean)*(len(df_clean)-1)//2):\n",
    "    \n",
    "    # 두 가게의 좌표 (위도, 경도)\n",
    "    coords_1 = (df_clean['latitude'][i], df_clean['longitude'][i])\n",
    "    coords_2 = (df_clean['latitude'][j], df_clean['longitude'][j])\n",
    "    \n",
    "    # haversine 라이브러리를 사용해 두 가게 사이의 거리를 미터(m) 단위로 계산\n",
    "    distance = haversine(coords_1, coords_2, unit=Unit.METERS)\n",
    "    \n",
    "    # 만약 거리가 우리가 설정한 기준보다 가깝다면,\n",
    "    if distance <= DISTANCE_THRESHOLD_METERS:\n",
    "        # 엣지 리스트에 두 가게의 고유 ID를 추가합니다.\n",
    "        # (source: 출발 노드, target: 도착 노드)\n",
    "        edge_list.append((df_clean['ENCODED_MCT'][i], df_clean['ENCODED_MCT'][j]))\n",
    "\n",
    "print(f\"\\n✅ Step 3: 엣지 리스트 생성 완료! 총 {len(edge_list)}개의 연결(엣지)을 찾았습니다.\")\n",
    "\n",
    "\n",
    "# ==============================================================================\n",
    "# 4. 결과 확인 및 저장\n",
    "# ==============================================================================\n",
    "# 생성된 엣지 리스트를 DataFrame으로 변환\n",
    "df_edges = pd.DataFrame(edge_list, columns=['source', 'target'])\n",
    "\n",
    "print(\"\\n--- 생성된 엣지 리스트 샘플 (상위 5개) ---\")\n",
    "print(df_edges.head())\n",
    "\n",
    "# 다음 단계인 VGAE 모델링에서 사용할 수 있도록 엣지 리스트를 파일로 저장합니다.\n",
    "output_path = \"./edge_list.csv\"\n",
    "df_edges.to_csv(output_path, index=False, encoding='utf-8-sig')\n",
    "\n",
    "print(f\"\\n🎉 그래프 완성! AI가 학습할 엣지 리스트가 '{output_path}' 파일로 저장되었습니다.\")"
   ]
  }
 ],
 "metadata": {
  "kernelspec": {
   "display_name": "base",
   "language": "python",
   "name": "python3"
  },
  "language_info": {
   "codemirror_mode": {
    "name": "ipython",
    "version": 3
   },
   "file_extension": ".py",
   "mimetype": "text/x-python",
   "name": "python",
   "nbconvert_exporter": "python",
   "pygments_lexer": "ipython3",
   "version": "3.12.3"
  }
 },
 "nbformat": 4,
 "nbformat_minor": 5
}
