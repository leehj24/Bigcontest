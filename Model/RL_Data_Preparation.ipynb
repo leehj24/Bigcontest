{
 "cells": [
  {
   "cell_type": "code",
   "execution_count": 1,
   "id": "f30ece3a",
   "metadata": {},
   "outputs": [
    {
     "name": "stdout",
     "output_type": "stream",
     "text": [
      "✅ Step 1: 데이터 로딩 성공!\n"
     ]
    }
   ],
   "source": [
    "import pandas as pd\n",
    "import numpy as np\n",
    "from pathlib import Path\n",
    "\n",
    "# --- 경로 설정 ---\n",
    "ROOT_DIR = Path.cwd().parent \n",
    "DATA_DIR = ROOT_DIR / \"BIgcontest_Data\"\n",
    "CROLLING_DIR = ROOT_DIR / \"Crolling\"\n",
    "EDA_DIR = ROOT_DIR / \"EDA\"\n",
    "MODEL_DIR = ROOT_DIR / \"Model\"\n",
    "\n",
    "# ==============================================================================\n",
    "# 1. 필요 데이터 불러오기\n",
    "# ==============================================================================\n",
    "try:\n",
    "    # 피처 엔지니어링이 완료된 월별 시계열 데이터\n",
    "    df_featured = pd.read_csv(EDA_DIR/\"featured_data.csv\")\n",
    "    # VGAE 모델이 생성한 가게별 잠재 벡터\n",
    "    df_embeddings = pd.read_csv(MODEL_DIR/\"node_embeddings.csv\")\n",
    "    print(\"✅ Step 1: 데이터 로딩 성공!\")\n",
    "except FileNotFoundError:\n",
    "    print(\"❌ 오류: 필요한 CSV 파일을 찾을 수 없습니다. 이전 단계들을 확인해주세요.\")\n",
    "    exit()"
   ]
  },
  {
   "cell_type": "code",
   "execution_count": 2,
   "id": "c35f766b",
   "metadata": {},
   "outputs": [
    {
     "name": "stdout",
     "output_type": "stream",
     "text": [
      "✅ Step 2: 데이터 병합 및 정렬 완료!\n"
     ]
    }
   ],
   "source": [
    "# ==============================================================================\n",
    "# 2. 데이터 병합 및 정렬\n",
    "# ==============================================================================\n",
    "# 월별 데이터에 가게별 잠재 벡터(고정값)를 추가\n",
    "df_rl = pd.merge(df_featured, df_embeddings, on='ENCODED_MCT')\n",
    "\n",
    "# 각 가게(ENCODED_MCT)별로 시간을 오름차순으로 정렬\n",
    "df_rl = df_rl.sort_values(by=['ENCODED_MCT', 'TA_YM']).reset_index(drop=True)\n",
    "\n",
    "print(\"✅ Step 2: 데이터 병합 및 정렬 완료!\")"
   ]
  },
  {
   "cell_type": "code",
   "execution_count": 3,
   "id": "4a0f224f",
   "metadata": {},
   "outputs": [
    {
     "name": "stdout",
     "output_type": "stream",
     "text": [
      "✅ Step 3: 상태, 행동, 보상 정의 및 생성 완료!\n"
     ]
    }
   ],
   "source": [
    "# ==============================================================================\n",
    "# 3. 강화학습 요소(상태, 행동, 보상) 정의 및 생성\n",
    "# ==============================================================================\n",
    "# --- 3-1. 상태 (State) 정의 ---\n",
    "# 상태는 '가게의 잠재 벡터'와 '월별 실적 수치'의 조합으로 정의\n",
    "latent_cols = [f'latent_{i}' for i in range(16)]\n",
    "monthly_feature_cols = [\n",
    "    'DLV_SAA_RAT',         # 배달 매출 비중\n",
    "    'MCT_UE_CLN_REU_RAT',  # 재방문 고객 비율\n",
    "    'MCT_UE_CLN_NEW_RAT',  # 신규 고객 비율\n",
    "    'RC_M1_SAA_RANK',      # 매출 순위\n",
    "    'TREND_RATIO'          # 업종 트렌드 지수\n",
    "]\n",
    "state_cols = latent_cols + monthly_feature_cols\n",
    "\n",
    "\n",
    "# --- 3-2. 행동 (Action) 정의 ---\n",
    "# 실제 행동 데이터가 없으므로, 월별 지표의 '변화량'을 행동으로 간주(Proxy)합니다.\n",
    "# 예: \"배달 비중이 10% 늘었다\" -> \"배달 강화\" 행동으로 해석\n",
    "# 여기서는 간단하게 4가지 조합으로 행동을 이산화(Discretize)합니다.\n",
    "# (배달 비중 변화, 신규 고객 비중 변화) -> (증가/감소, 증가/감소)\n",
    "# 0: (감소, 감소), 1: (감소, 증가), 2: (증가, 감소), 3: (증가, 증가)\n",
    "\n",
    "# '다음 달'의 데이터를 가져와 변화량을 계산하기 위해 shift(-1) 사용\n",
    "df_rl['DLV_RAT_CHANGE'] = df_rl.groupby('ENCODED_MCT')['DLV_SAA_RAT'].shift(-1) - df_rl['DLV_SAA_RAT']\n",
    "df_rl['NEW_RAT_CHANGE'] = df_rl.groupby('ENCODED_MCT')['MCT_UE_CLN_NEW_RAT'].shift(-1) - df_rl['MCT_UE_CLN_NEW_RAT']\n",
    "\n",
    "# 변화량의 부호에 따라 행동 정의\n",
    "actions = []\n",
    "for _, row in df_rl.iterrows():\n",
    "    action = 0\n",
    "    if row['DLV_RAT_CHANGE'] > 0: action += 2\n",
    "    if row['NEW_RAT_CHANGE'] > 0: action += 1\n",
    "    actions.append(action)\n",
    "df_rl['ACTION'] = actions\n",
    "\n",
    "\n",
    "# --- 3-3. 보상 (Reward) 정의 ---\n",
    "# 보상은 '매출 순위의 향상 정도'로 정의. 순위가 낮아질수록(좋아질수록) 높은 보상.\n",
    "# (현재 순위 - 다음 달 순위)\n",
    "df_rl['REWARD'] = df_rl.groupby('ENCODED_MCT')['RC_M1_SAA_RANK'].shift(-1).rsub(df_rl['RC_M1_SAA_RANK'])\n",
    "\n",
    "\n",
    "# --- 3-4. 다음 상태 (Next State) 정의 ---\n",
    "# 다음 달의 상태(State) 데이터를 가져옵니다.\n",
    "df_rl['NEXT_STATE'] = df_rl.groupby('ENCODED_MCT')[state_cols].shift(-1).apply(lambda x: x.values.tolist(), axis=1)\n",
    "\n",
    "print(\"✅ Step 3: 상태, 행동, 보상 정의 및 생성 완료!\")"
   ]
  },
  {
   "cell_type": "code",
   "execution_count": 4,
   "id": "e9c75a37",
   "metadata": {},
   "outputs": [
    {
     "name": "stdout",
     "output_type": "stream",
     "text": [
      "\n",
      "--- Step 4: 최종 강화학습 데이터셋 생성 완료! ---\n",
      "  - 총 72313개의 학습용 데이터(Transition) 생성\n",
      "                                               STATE  ACTION  REWARD  \\\n",
      "0  [0.23911169, -0.16731161, -0.20430204, -0.3184...       0     0.0   \n",
      "1  [0.23911169, -0.16731161, -0.20430204, -0.3184...       0     0.0   \n",
      "2  [0.23911169, -0.16731161, -0.20430204, -0.3184...       1     0.0   \n",
      "3  [0.23911169, -0.16731161, -0.20430204, -0.3184...       0     0.0   \n",
      "4  [0.23911169, -0.16731161, -0.20430204, -0.3184...       0     0.0   \n",
      "\n",
      "                                          NEXT_STATE  \n",
      "0  [0.23911169, -0.16731161, -0.20430204, -0.3184...  \n",
      "1  [0.23911169, -0.16731161, -0.20430204, -0.3184...  \n",
      "2  [0.23911169, -0.16731161, -0.20430204, -0.3184...  \n",
      "3  [0.23911169, -0.16731161, -0.20430204, -0.3184...  \n",
      "4  [0.23911169, -0.16731161, -0.20430204, -0.3184...  \n",
      "\n",
      "🎉 모든 작업 완료! 강화학습용 최종 데이터가 './rl_dataset.csv' 파일로 저장되었습니다.\n"
     ]
    }
   ],
   "source": [
    "# ==============================================================================\n",
    "# 4. 최종 데이터셋 생성 및 저장\n",
    "# ==============================================================================\n",
    "# (상태, 행동, 보상, 다음 상태) 튜플을 만들기 위해 마지막 달 데이터 등 불필요한 행 제거\n",
    "df_rl_final = df_rl.dropna(subset=['REWARD', 'NEXT_STATE']).reset_index(drop=True)\n",
    "\n",
    "# 최종 데이터셋 구성\n",
    "rl_dataset = pd.DataFrame({\n",
    "    'STATE': df_rl_final[state_cols].values.tolist(),\n",
    "    'ACTION': df_rl_final['ACTION'],\n",
    "    'REWARD': df_rl_final['REWARD'],\n",
    "    'NEXT_STATE': df_rl_final['NEXT_STATE']\n",
    "})\n",
    "\n",
    "print(\"\\n--- Step 4: 최종 강화학습 데이터셋 생성 완료! ---\")\n",
    "print(f\"  - 총 {len(rl_dataset)}개의 학습용 데이터(Transition) 생성\")\n",
    "print(rl_dataset.head())\n",
    "\n",
    "\n",
    "# 다음 단계인 오프라인 강화학습 모델(CQL) 학습에 사용할 수 있도록 저장\n",
    "output_path = \"./rl_dataset.csv\"\n",
    "rl_dataset.to_csv(output_path, index=False, encoding='utf-8-sig')\n",
    "\n",
    "print(f\"\\n🎉 모든 작업 완료! 강화학습용 최종 데이터가 '{output_path}' 파일로 저장되었습니다.\")"
   ]
  }
 ],
 "metadata": {
  "kernelspec": {
   "display_name": "base",
   "language": "python",
   "name": "python3"
  },
  "language_info": {
   "codemirror_mode": {
    "name": "ipython",
    "version": 3
   },
   "file_extension": ".py",
   "mimetype": "text/x-python",
   "name": "python",
   "nbconvert_exporter": "python",
   "pygments_lexer": "ipython3",
   "version": "3.12.3"
  }
 },
 "nbformat": 4,
 "nbformat_minor": 5
}
