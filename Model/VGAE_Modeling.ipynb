{
 "cells": [
  {
   "cell_type": "code",
   "execution_count": 6,
   "id": "8c3a1634-c3f0-4b07-aeed-5c6f9862ae8a",
   "metadata": {
    "execution": {
     "iopub.execute_input": "2025-10-01T00:06:38.884745Z",
     "iopub.status.busy": "2025-10-01T00:06:38.884353Z",
     "iopub.status.idle": "2025-10-01T00:06:38.890524Z",
     "shell.execute_reply": "2025-10-01T00:06:38.889676Z",
     "shell.execute_reply.started": "2025-10-01T00:06:38.884717Z"
    }
   },
   "outputs": [],
   "source": [
    "import pandas as pd\n",
    "import numpy as np\n",
    "import torch\n",
    "from torch_geometric.data import Data\n",
    "from torch_geometric.nn import GCNConv, VGAE\n",
    "from sklearn.preprocessing import StandardScaler\n",
    "from tqdm import tqdm\n",
    "\n",
    "import pandas as pd\n",
    "import json\n",
    "from pathlib import Path\n",
    "\n",
    "# --- 경로 설정 ---\n",
    "ROOT_DIR = Path.cwd() \n",
    "DATA_DIR = ROOT_DIR / \"BIgcontest_Data\"\n",
    "CROLLING_DIR = ROOT_DIR / \"Crolling\"\n",
    "EDA_DIR = ROOT_DIR / \"EDA\"\n",
    "OUTPUT_DIR = ROOT_DIR / \"Model\""
   ]
  },
  {
   "cell_type": "code",
   "execution_count": 7,
   "id": "bc467c68-2b58-4811-b6cc-8003dc40ee61",
   "metadata": {
    "execution": {
     "iopub.execute_input": "2025-10-01T00:06:39.631291Z",
     "iopub.status.busy": "2025-10-01T00:06:39.630891Z",
     "iopub.status.idle": "2025-10-01T00:06:39.767413Z",
     "shell.execute_reply": "2025-10-01T00:06:39.766485Z",
     "shell.execute_reply.started": "2025-10-01T00:06:39.631263Z"
    }
   },
   "outputs": [
    {
     "name": "stdout",
     "output_type": "stream",
     "text": [
      "✅ Step 1: 노드 및 엣지 데이터 로딩 성공!\n"
     ]
    }
   ],
   "source": [
    "# ==============================================================================\n",
    "# 1. 그래프 데이터 (노드, 엣지) 불러오기\n",
    "# ==============================================================================\n",
    "try:\n",
    "    # 노드(가게)의 특징 데이터\n",
    "    df_nodes = pd.read_csv(EDA_DIR/\"nodes_with_coords.csv\")\n",
    "    # 엣지(가게 간 연결) 데이터\n",
    "    df_edges = pd.read_csv(EDA_DIR/\"edge_list.csv\")\n",
    "    print(\"✅ Step 1: 노드 및 엣지 데이터 로딩 성공!\")\n",
    "except FileNotFoundError:\n",
    "    print(\"❌ 오류: 'nodes_with_coords.csv' 또는 'edge_list.csv' 파일을 찾을 수 없습니다.\")\n",
    "    exit()"
   ]
  },
  {
   "cell_type": "code",
   "execution_count": 9,
   "id": "b414f8b7-dd99-4b49-a0f7-6bc9eb311b5b",
   "metadata": {
    "execution": {
     "iopub.execute_input": "2025-10-01T00:12:45.805909Z",
     "iopub.status.busy": "2025-10-01T00:12:45.805557Z",
     "iopub.status.idle": "2025-10-01T00:12:45.891301Z",
     "shell.execute_reply": "2025-10-01T00:12:45.890551Z",
     "shell.execute_reply.started": "2025-10-01T00:12:45.805879Z"
    }
   },
   "outputs": [
    {
     "name": "stdout",
     "output_type": "stream",
     "text": [
      "✅ Step 2: 데이터 전처리 및 PyTorch 텐서 변환 완료!\n"
     ]
    }
   ],
   "source": [
    "\n",
    "# ==============================================================================\n",
    "# 2. 모델 학습을 위한 데이터 전처리\n",
    "# ==============================================================================\n",
    "# 2-1. 노드(가게) ID를 0부터 시작하는 정수 인덱스로 매핑\n",
    "# 딥러닝 모델은 문자열 ID 대신 숫자 인덱스를 사용합니다.\n",
    "node_ids = df_nodes['ENCODED_MCT'].unique()\n",
    "node_id_to_idx = {node_id: i for i, node_id in enumerate(node_ids)}\n",
    "\n",
    "df_nodes['node_idx'] = df_nodes['ENCODED_MCT'].map(node_id_to_idx)\n",
    "\n",
    "# 2-2. 엣지 리스트를 숫자 인덱스로 변환\n",
    "df_edges['source_idx'] = df_edges['source'].map(node_id_to_idx)\n",
    "df_edges['target_idx'] = df_edges['target'].map(node_id_to_idx)\n",
    "\n",
    "# 유효한 엣지(source, target 모두 매핑된 경우)만 필터링\n",
    "df_edges_clean = df_edges.dropna(subset=['source_idx', 'target_idx'])\n",
    "\n",
    "# PyG가 사용하는 엣지 인덱스 형태로 변환 (2, num_edges)\n",
    "edge_index = torch.tensor(df_edges_clean[['source_idx', 'target_idx']].values, dtype=torch.long).t().contiguous()\n",
    "\n",
    "# 2-3. 노드 특징(Node Features) 스케일링\n",
    "# 모델이 안정적으로 학습하도록 숫자형 특징들의 단위를 맞춰줍니다 (평균 0, 분산 1).\n",
    "feature_cols = df_nodes.select_dtypes(include=np.number).columns.drop(['node_idx', 'latitude', 'longitude'])\n",
    "scaler = StandardScaler()\n",
    "df_nodes[feature_cols] = scaler.fit_transform(df_nodes[feature_cols])\n",
    "\n",
    "# 특징 데이터를 PyTorch 텐서로 변환\n",
    "node_features = torch.tensor(df_nodes[feature_cols].values, dtype=torch.float)\n",
    "\n",
    "print(\"✅ Step 2: 데이터 전처리 및 PyTorch 텐서 변환 완료!\")"
   ]
  },
  {
   "cell_type": "code",
   "execution_count": 10,
   "id": "70992876-3469-4515-951b-54cb47d52a6b",
   "metadata": {
    "execution": {
     "iopub.execute_input": "2025-10-01T00:14:51.477871Z",
     "iopub.status.busy": "2025-10-01T00:14:51.477455Z",
     "iopub.status.idle": "2025-10-01T00:14:51.858862Z",
     "shell.execute_reply": "2025-10-01T00:14:51.857395Z",
     "shell.execute_reply.started": "2025-10-01T00:14:51.477832Z"
    }
   },
   "outputs": [
    {
     "name": "stdout",
     "output_type": "stream",
     "text": [
      "✅ Step 3: PyG 그래프 데이터 객체 생성 완료!\n",
      "Data(x=[4185, 30], edge_index=[2, 72426])\n",
      "✅ Step 3.5: 연산에 사용할 장치 확인 --- cuda\n",
      "✅ Step 4: VGAE 모델 정의 및 GPU 설정 완료!\n"
     ]
    }
   ],
   "source": [
    "# ==============================================================================\n",
    "# 3. PyTorch Geometric (PyG) 그래프 데이터 객체 생성\n",
    "# ==============================================================================\n",
    "data = Data(x=node_features, edge_index=edge_index)\n",
    "print(\"✅ Step 3: PyG 그래프 데이터 객체 생성 완료!\")\n",
    "print(data)\n",
    "\n",
    "# ==============================================================================\n",
    "# 4. VGAE 모델 정의\n",
    "# ==============================================================================\n",
    "# VGAE의 인코더 부분 정의\n",
    "class VariationalGCNEncoder(torch.nn.Module):\n",
    "    def __init__(self, in_channels, out_channels):\n",
    "        super().__init__()\n",
    "        # 두 개의 그래프 컨볼루션 레이어(GCN)를 사용\n",
    "        self.conv1 = GCNConv(in_channels, 2 * out_channels)\n",
    "        # mu(평균)와 logStd(로그 표준편차)를 위한 두 번째 GCN 레이어\n",
    "        self.conv_mu = GCNConv(2 * out_channels, out_channels)\n",
    "        self.conv_logstd = GCNConv(2 * out_channels, out_channels)\n",
    "\n",
    "    def forward(self, x, edge_index):\n",
    "        x = self.conv1(x, edge_index).relu()\n",
    "        return self.conv_mu(x, edge_index), self.conv_logstd(x, edge_index)\n",
    "\n",
    "# 모델 파라미터 설정\n",
    "in_channels = data.num_node_features\n",
    "out_channels = 16 \n",
    "\n",
    "# ✅ 1. 사용할 장치(device) 설정: GPU가 있으면 cuda, 없으면 cpu로 자동 설정\n",
    "device = torch.device('cuda' if torch.cuda.is_available() else 'cpu')\n",
    "print(f\"✅ Step 3.5: 연산에 사용할 장치 확인 --- {device}\")\n",
    "\n",
    "\n",
    "# VGAE 모델 생성\n",
    "model = VGAE(VariationalGCNEncoder(in_channels, out_channels))\n",
    "\n",
    "# ✅ 2. 모델과 데이터를 설정된 장치(GPU)로 이동\n",
    "model.to(device)\n",
    "data.to(device)\n",
    "\n",
    "optimizer = torch.optim.Adam(model.parameters(), lr=0.01)\n",
    "print(\"✅ Step 4: VGAE 모델 정의 및 GPU 설정 완료!\")"
   ]
  },
  {
   "cell_type": "code",
   "execution_count": 11,
   "id": "bed08f14-108c-4eb4-8d1c-4db0804c3d1d",
   "metadata": {
    "execution": {
     "iopub.execute_input": "2025-10-01T00:14:52.817367Z",
     "iopub.status.busy": "2025-10-01T00:14:52.816881Z",
     "iopub.status.idle": "2025-10-01T00:15:41.106576Z",
     "shell.execute_reply": "2025-10-01T00:15:41.105684Z",
     "shell.execute_reply.started": "2025-10-01T00:14:52.817336Z"
    }
   },
   "outputs": [
    {
     "name": "stdout",
     "output_type": "stream",
     "text": [
      "\n",
      "--- Step 5: 모델 학습 시작 (Epoch 300) ---\n",
      "Epoch: 010, Loss: 1.3250\n",
      "Epoch: 020, Loss: 1.0096\n",
      "Epoch: 030, Loss: 0.9288\n",
      "Epoch: 040, Loss: 0.8940\n",
      "Epoch: 050, Loss: 0.8787\n",
      "Epoch: 060, Loss: 0.8702\n",
      "Epoch: 070, Loss: 0.8590\n",
      "Epoch: 080, Loss: 0.8537\n",
      "Epoch: 090, Loss: 0.8504\n",
      "Epoch: 100, Loss: 0.8448\n",
      "Epoch: 110, Loss: 0.8427\n",
      "Epoch: 120, Loss: 0.8401\n",
      "Epoch: 130, Loss: 0.8362\n",
      "Epoch: 140, Loss: 0.8353\n",
      "Epoch: 150, Loss: 0.8344\n",
      "Epoch: 160, Loss: 0.8345\n",
      "Epoch: 170, Loss: 0.8301\n",
      "Epoch: 180, Loss: 0.8293\n",
      "Epoch: 190, Loss: 0.8289\n",
      "Epoch: 200, Loss: 0.8243\n",
      "Epoch: 210, Loss: 0.8248\n",
      "Epoch: 220, Loss: 0.8230\n",
      "Epoch: 230, Loss: 0.8247\n",
      "Epoch: 240, Loss: 0.8241\n",
      "Epoch: 250, Loss: 0.8225\n",
      "Epoch: 260, Loss: 0.8221\n",
      "Epoch: 270, Loss: 0.8233\n",
      "Epoch: 280, Loss: 0.8192\n",
      "Epoch: 290, Loss: 0.8225\n",
      "Epoch: 300, Loss: 0.8197\n",
      "\n",
      "✅ Step 5: 모델 학습 완료!\n"
     ]
    }
   ],
   "source": [
    "# ==============================================================================\n",
    "# 5. 모델 학습\n",
    "# ==============================================================================\n",
    "def train():\n",
    "    model.train()\n",
    "    optimizer.zero_grad()\n",
    "    z = model.encode(data.x, data.edge_index) # data가 GPU에 있으므로 이 연산도 GPU에서 수행됨\n",
    "    loss = model.recon_loss(z, data.edge_index) + (1 / data.num_nodes) * model.kl_loss()\n",
    "    loss.backward()\n",
    "    optimizer.step()\n",
    "    return float(loss)\n",
    "\n",
    "print(\"\\n--- Step 5: 모델 학습 시작 (Epoch 300) ---\")\n",
    "for epoch in range(1, 301):\n",
    "    loss = train()\n",
    "    if epoch % 10 == 0:\n",
    "        print(f'Epoch: {epoch:03d}, Loss: {loss:.4f}')\n",
    "\n",
    "print(\"\\n✅ Step 5: 모델 학습 완료!\")"
   ]
  },
  {
   "cell_type": "code",
   "execution_count": 15,
   "id": "fa9180a2-e444-4690-82bf-2e4f0dbc713f",
   "metadata": {
    "execution": {
     "iopub.execute_input": "2025-10-01T00:19:03.454506Z",
     "iopub.status.busy": "2025-10-01T00:19:03.454152Z",
     "iopub.status.idle": "2025-10-01T00:19:03.605180Z",
     "shell.execute_reply": "2025-10-01T00:19:03.604395Z",
     "shell.execute_reply.started": "2025-10-01T00:19:03.454481Z"
    }
   },
   "outputs": [
    {
     "name": "stdout",
     "output_type": "stream",
     "text": [
      "\n",
      "--- Step 6: 학습된 잠재 벡터(임베딩) 추출 완료 ---\n",
      "   latent_0  latent_1  latent_2  latent_3  latent_4  latent_5  latent_6  \\\n",
      "0  0.239112 -0.167312 -0.204302 -0.318421 -0.100513 -0.033224  0.034737   \n",
      "1 -0.062536  0.382447  0.197181 -0.101919  0.211323 -0.129040  0.160626   \n",
      "2 -0.950546  0.232531 -0.143638  0.059959 -0.009538 -0.404986  0.816620   \n",
      "3  0.087379 -0.071913  0.074773  0.696067  0.697613  0.098010  0.263093   \n",
      "4 -0.041692  0.331113  0.023690  0.166006  0.281873  0.143643  0.323818   \n",
      "\n",
      "   latent_7  latent_8  latent_9  latent_10  latent_11  latent_12  latent_13  \\\n",
      "0  0.641907 -0.102567  1.073260   0.090179   0.557739   0.418223   0.249325   \n",
      "1  0.243525 -0.171747 -0.195750   0.067225  -0.261589   0.085779   0.609086   \n",
      "2  0.300426  0.231899 -0.006807   0.107244   0.370142  -0.268149   0.472236   \n",
      "3  0.073178  0.080390 -0.094903  -0.252551  -0.085186  -0.214601  -0.467186   \n",
      "4 -0.277812 -0.114077 -0.282480  -0.641633   0.240527  -0.594519  -0.462066   \n",
      "\n",
      "   latent_14  latent_15 ENCODED_MCT  \n",
      "0  -0.129858   0.165741  000F03E44A  \n",
      "1   0.142619  -0.170614  002816BA73  \n",
      "2  -0.267102  -0.070807  003473B465  \n",
      "3   0.312945  -0.408618  003AC99735  \n",
      "4   0.520761   0.065075  0041E4E5AE  \n",
      "\n",
      "🎉 모든 작업 완료! 각 가게의 최종 잠재 벡터가 '/home/K2024523/Bigcontest/Model/node_embeddings.csv' 파일로 저장되었습니다.\n"
     ]
    }
   ],
   "source": [
    "# ==============================================================================\n",
    "# 6. 학습된 임베딩(잠재 벡터) 추출 및 저장\n",
    "# ==============================================================================\n",
    "# 학습된 모델을 사용해 최종 잠재 벡터(임베딩)를 추출\n",
    "model.eval()\n",
    "with torch.no_grad():\n",
    "    z = model.encode(data.x, data.edge_index)\n",
    "\n",
    "# 결과를 DataFrame으로 변환\n",
    "df_embeddings = pd.DataFrame(z.cpu().numpy(), columns=[f'latent_{i}' for i in range(out_channels)])\n",
    "df_embeddings['ENCODED_MCT'] = df_nodes['ENCODED_MCT']\n",
    "\n",
    "print(\"\\n--- Step 6: 학습된 잠재 벡터(임베딩) 추출 완료 ---\")\n",
    "print(df_embeddings.head())\n",
    "\n",
    "\n",
    "# 다음 분석 단계에서 사용할 수 있도록 파일로 저장\n",
    "home_dir = Path.home()\n",
    "output_path = home_dir / \"Bigcontest\"/\"Model\"/\"node_embeddings.csv\"\n",
    "df_embeddings.to_csv(output_path, index=False, encoding='utf-8-sig')\n",
    "\n",
    "print(f\"\\n🎉 모든 작업 완료! 각 가게의 최종 잠재 벡터가 '{output_path}' 파일로 저장되었습니다.\")"
   ]
  },
  {
   "cell_type": "code",
   "execution_count": null,
   "id": "61ac0721-585c-44e4-a1b6-ec08915bfc4d",
   "metadata": {},
   "outputs": [],
   "source": []
  }
 ],
 "metadata": {
  "kernelspec": {
   "display_name": "base",
   "language": "python",
   "name": "python3"
  },
  "language_info": {
   "codemirror_mode": {
    "name": "ipython",
    "version": 3
   },
   "file_extension": ".py",
   "mimetype": "text/x-python",
   "name": "python",
   "nbconvert_exporter": "python",
   "pygments_lexer": "ipython3",
   "version": "3.12.3"
  }
 },
 "nbformat": 4,
 "nbformat_minor": 5
}
