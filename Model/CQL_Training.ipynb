{
 "cells": [
  {
   "cell_type": "code",
   "execution_count": 1,
   "id": "8f2e639f-8782-42f0-a051-c0728d6e902d",
   "metadata": {
    "execution": {
     "iopub.execute_input": "2025-10-01T01:34:05.453454Z",
     "iopub.status.busy": "2025-10-01T01:34:05.453220Z",
     "iopub.status.idle": "2025-10-01T01:34:12.724059Z",
     "shell.execute_reply": "2025-10-01T01:34:12.723356Z",
     "shell.execute_reply.started": "2025-10-01T01:34:05.453429Z"
    }
   },
   "outputs": [
    {
     "name": "stdout",
     "output_type": "stream",
     "text": [
      "--- 필수 라이브러리 설치 시작 ---\n",
      "Defaulting to user installation because normal site-packages is not writeable\n",
      "Looking in indexes: http://repo.ai.gato/registry/repository/pypi-proxy/simple\n",
      "Requirement already satisfied: pandas in /usr/gatoai/python/venv/3.10/lib/python3.10/site-packages (2.3.3)\n",
      "Requirement already satisfied: scikit-learn in /usr/gatoai/python/venv/3.10/lib/python3.10/site-packages (1.7.2)\n",
      "Requirement already satisfied: d3rlpy[torch] in /home/K2024523/.local/lib/python3.10/site-packages (2.8.1)\n",
      "Requirement already satisfied: torch>=2.5.0 in /home/K2024523/.local/lib/python3.10/site-packages (from d3rlpy[torch]) (2.8.0)\n",
      "Requirement already satisfied: tqdm>=4.66.3 in /usr/gatoai/python/venv/jupyter-4.4.0-py3.10/lib/python3.10/site-packages (from d3rlpy[torch]) (4.67.1)\n",
      "Requirement already satisfied: h5py in /usr/gatoai/python/venv/jupyter-4.4.0-py3.10/lib/python3.10/site-packages (from d3rlpy[torch]) (3.14.0)\n",
      "Requirement already satisfied: gym>=0.26.0 in /usr/gatoai/python/venv/3.10/lib/python3.10/site-packages (from d3rlpy[torch]) (0.26.2)\n",
      "Requirement already satisfied: click in /usr/gatoai/python/venv/jupyter-4.4.0-py3.10/lib/python3.10/site-packages (from d3rlpy[torch]) (8.2.1)\n",
      "Requirement already satisfied: typing-extensions in /usr/gatoai/python/venv/jupyter-4.4.0-py3.10/lib/python3.10/site-packages (from d3rlpy[torch]) (4.15.0)\n",
      "Requirement already satisfied: structlog in /home/K2024523/.local/lib/python3.10/site-packages (from d3rlpy[torch]) (25.4.0)\n",
      "Requirement already satisfied: colorama in /usr/gatoai/python/venv/jupyter-4.4.0-py3.10/lib/python3.10/site-packages (from d3rlpy[torch]) (0.4.6)\n",
      "Requirement already satisfied: dataclasses-json in /usr/gatoai/python/venv/3.10/lib/python3.10/site-packages (from d3rlpy[torch]) (0.6.7)\n",
      "Collecting gymnasium==1.0.0 (from d3rlpy[torch])\n",
      "  Using cached http://repo.ai.gato/registry/repository/pypi-proxy/packages/gymnasium/1.0.0/gymnasium-1.0.0-py3-none-any.whl (958 kB)\n",
      "Requirement already satisfied: numpy>=1.21.0 in /usr/gatoai/python/venv/3.10/lib/python3.10/site-packages (from gymnasium==1.0.0->d3rlpy[torch]) (1.26.4)\n",
      "Requirement already satisfied: cloudpickle>=1.2.0 in /usr/gatoai/python/venv/3.10/lib/python3.10/site-packages (from gymnasium==1.0.0->d3rlpy[torch]) (3.1.1)\n",
      "Requirement already satisfied: farama-notifications>=0.0.1 in /usr/gatoai/python/venv/3.10/lib/python3.10/site-packages (from gymnasium==1.0.0->d3rlpy[torch]) (0.0.4)\n"
     ]
    },
    {
     "name": "stderr",
     "output_type": "stream",
     "text": [
      "\u001b[33mWARNING: d3rlpy 2.8.1 does not provide the extra 'torch'\u001b[0m\u001b[33m\n",
      "\u001b[0m"
     ]
    },
    {
     "name": "stdout",
     "output_type": "stream",
     "text": [
      "Requirement already satisfied: python-dateutil>=2.8.2 in /usr/gatoai/python/venv/jupyter-4.4.0-py3.10/lib/python3.10/site-packages (from pandas) (2.9.0.post0)\n",
      "Requirement already satisfied: pytz>=2020.1 in /usr/gatoai/python/venv/jupyter-4.4.0-py3.10/lib/python3.10/site-packages (from pandas) (2025.2)\n",
      "Requirement already satisfied: tzdata>=2022.7 in /usr/gatoai/python/venv/jupyter-4.4.0-py3.10/lib/python3.10/site-packages (from pandas) (2025.2)\n",
      "Requirement already satisfied: scipy>=1.8.0 in /usr/gatoai/python/venv/3.10/lib/python3.10/site-packages (from scikit-learn) (1.15.3)\n",
      "Requirement already satisfied: joblib>=1.2.0 in /usr/gatoai/python/venv/3.10/lib/python3.10/site-packages (from scikit-learn) (1.5.2)\n",
      "Requirement already satisfied: threadpoolctl>=3.1.0 in /usr/gatoai/python/venv/3.10/lib/python3.10/site-packages (from scikit-learn) (3.6.0)\n",
      "Requirement already satisfied: gym_notices>=0.0.4 in /usr/gatoai/python/venv/3.10/lib/python3.10/site-packages (from gym>=0.26.0->d3rlpy[torch]) (0.1.0)\n",
      "Requirement already satisfied: six>=1.5 in /usr/gatoai/python/venv/jupyter-4.4.0-py3.10/lib/python3.10/site-packages (from python-dateutil>=2.8.2->pandas) (1.17.0)\n",
      "Requirement already satisfied: filelock in /usr/gatoai/python/venv/jupyter-4.4.0-py3.10/lib/python3.10/site-packages (from torch>=2.5.0->d3rlpy[torch]) (3.19.1)\n",
      "Requirement already satisfied: sympy>=1.13.3 in /usr/gatoai/python/venv/3.10/lib/python3.10/site-packages (from torch>=2.5.0->d3rlpy[torch]) (1.14.0)\n",
      "Requirement already satisfied: networkx in /usr/gatoai/python/venv/jupyter-4.4.0-py3.10/lib/python3.10/site-packages (from torch>=2.5.0->d3rlpy[torch]) (3.4.2)\n",
      "Requirement already satisfied: jinja2 in /usr/gatoai/python/venv/jupyter-4.4.0-py3.10/lib/python3.10/site-packages (from torch>=2.5.0->d3rlpy[torch]) (3.1.6)\n",
      "Requirement already satisfied: fsspec in /usr/gatoai/python/venv/jupyter-4.4.0-py3.10/lib/python3.10/site-packages (from torch>=2.5.0->d3rlpy[torch]) (2025.3.0)\n",
      "Requirement already satisfied: nvidia-cuda-nvrtc-cu12==12.8.93 in /home/K2024523/.local/lib/python3.10/site-packages (from torch>=2.5.0->d3rlpy[torch]) (12.8.93)\n",
      "Requirement already satisfied: nvidia-cuda-runtime-cu12==12.8.90 in /home/K2024523/.local/lib/python3.10/site-packages (from torch>=2.5.0->d3rlpy[torch]) (12.8.90)\n",
      "Requirement already satisfied: nvidia-cuda-cupti-cu12==12.8.90 in /home/K2024523/.local/lib/python3.10/site-packages (from torch>=2.5.0->d3rlpy[torch]) (12.8.90)\n",
      "Requirement already satisfied: nvidia-cudnn-cu12==9.10.2.21 in /home/K2024523/.local/lib/python3.10/site-packages (from torch>=2.5.0->d3rlpy[torch]) (9.10.2.21)\n",
      "Requirement already satisfied: nvidia-cublas-cu12==12.8.4.1 in /home/K2024523/.local/lib/python3.10/site-packages (from torch>=2.5.0->d3rlpy[torch]) (12.8.4.1)\n",
      "Requirement already satisfied: nvidia-cufft-cu12==11.3.3.83 in /home/K2024523/.local/lib/python3.10/site-packages (from torch>=2.5.0->d3rlpy[torch]) (11.3.3.83)\n",
      "Requirement already satisfied: nvidia-curand-cu12==10.3.9.90 in /home/K2024523/.local/lib/python3.10/site-packages (from torch>=2.5.0->d3rlpy[torch]) (10.3.9.90)\n",
      "Requirement already satisfied: nvidia-cusolver-cu12==11.7.3.90 in /home/K2024523/.local/lib/python3.10/site-packages (from torch>=2.5.0->d3rlpy[torch]) (11.7.3.90)\n",
      "Requirement already satisfied: nvidia-cusparse-cu12==12.5.8.93 in /home/K2024523/.local/lib/python3.10/site-packages (from torch>=2.5.0->d3rlpy[torch]) (12.5.8.93)\n",
      "Requirement already satisfied: nvidia-cusparselt-cu12==0.7.1 in /home/K2024523/.local/lib/python3.10/site-packages (from torch>=2.5.0->d3rlpy[torch]) (0.7.1)\n",
      "Requirement already satisfied: nvidia-nccl-cu12==2.27.3 in /home/K2024523/.local/lib/python3.10/site-packages (from torch>=2.5.0->d3rlpy[torch]) (2.27.3)\n",
      "Requirement already satisfied: nvidia-nvtx-cu12==12.8.90 in /home/K2024523/.local/lib/python3.10/site-packages (from torch>=2.5.0->d3rlpy[torch]) (12.8.90)\n",
      "Requirement already satisfied: nvidia-nvjitlink-cu12==12.8.93 in /home/K2024523/.local/lib/python3.10/site-packages (from torch>=2.5.0->d3rlpy[torch]) (12.8.93)\n",
      "Requirement already satisfied: nvidia-cufile-cu12==1.13.1.3 in /home/K2024523/.local/lib/python3.10/site-packages (from torch>=2.5.0->d3rlpy[torch]) (1.13.1.3)\n",
      "Requirement already satisfied: triton==3.4.0 in /usr/gatoai/python/venv/3.10/lib/python3.10/site-packages (from torch>=2.5.0->d3rlpy[torch]) (3.4.0)\n",
      "Requirement already satisfied: setuptools>=40.8.0 in /opt/python/lib/python3.10/site-packages (from triton==3.4.0->torch>=2.5.0->d3rlpy[torch]) (80.9.0)\n",
      "Requirement already satisfied: mpmath<1.4,>=1.1.0 in /usr/gatoai/python/venv/3.10/lib/python3.10/site-packages (from sympy>=1.13.3->torch>=2.5.0->d3rlpy[torch]) (1.3.0)\n",
      "Requirement already satisfied: marshmallow<4.0.0,>=3.18.0 in /usr/gatoai/python/venv/3.10/lib/python3.10/site-packages (from dataclasses-json->d3rlpy[torch]) (3.26.1)\n",
      "Requirement already satisfied: typing-inspect<1,>=0.4.0 in /usr/gatoai/python/venv/3.10/lib/python3.10/site-packages (from dataclasses-json->d3rlpy[torch]) (0.9.0)\n",
      "Requirement already satisfied: packaging>=17.0 in /usr/gatoai/python/venv/jupyter-4.4.0-py3.10/lib/python3.10/site-packages (from marshmallow<4.0.0,>=3.18.0->dataclasses-json->d3rlpy[torch]) (24.2)\n",
      "Requirement already satisfied: mypy-extensions>=0.3.0 in /usr/gatoai/python/venv/3.10/lib/python3.10/site-packages (from typing-inspect<1,>=0.4.0->dataclasses-json->d3rlpy[torch]) (1.1.0)\n",
      "Requirement already satisfied: MarkupSafe>=2.0 in /usr/gatoai/python/venv/jupyter-4.4.0-py3.10/lib/python3.10/site-packages (from jinja2->torch>=2.5.0->d3rlpy[torch]) (3.0.2)\n",
      "Installing collected packages: gymnasium\n",
      "Successfully installed gymnasium-1.0.0\n"
     ]
    },
    {
     "name": "stderr",
     "output_type": "stream",
     "text": [
      "\n",
      "\u001b[1m[\u001b[0m\u001b[34;49mnotice\u001b[0m\u001b[1;39;49m]\u001b[0m\u001b[39;49m A new release of pip is available: \u001b[0m\u001b[31;49m25.1.1\u001b[0m\u001b[39;49m -> \u001b[0m\u001b[32;49m25.2\u001b[0m\n",
      "\u001b[1m[\u001b[0m\u001b[34;49mnotice\u001b[0m\u001b[1;39;49m]\u001b[0m\u001b[39;49m To update, run: \u001b[0m\u001b[32;49mpip install --upgrade pip\u001b[0m\n"
     ]
    },
    {
     "name": "stdout",
     "output_type": "stream",
     "text": [
      "✅ 라이브러리 설치 완료!\n"
     ]
    }
   ],
   "source": [
    "import sys\n",
    "import subprocess\n",
    "import warnings\n",
    "\n",
    "# ==============================================================================\n",
    "# -1. 필수 라이브러리 설치 (실행 환경 초기화 대비)\n",
    "# ==============================================================================\n",
    "try:\n",
    "    print(\"--- 필수 라이브러리 설치 시작 ---\")\n",
    "    python_executable = sys.executable\n",
    "    subprocess.check_call([\n",
    "        python_executable, \"-m\", \"pip\", \"install\",\n",
    "        \"d3rlpy[torch]\", \"pandas\", \"scikit-learn\"\n",
    "    ])\n",
    "    print(\"✅ 라이브러리 설치 완료!\")\n",
    "except Exception as e:\n",
    "    print(f\"❌ 오류: 라이브러리 설치에 실패했습니다: {e}\")\n",
    "    sys.exit(1)\n",
    "\n",
    "# Gym 관련 경고 숨기기 (기능 영향 없음)\n",
    "warnings.filterwarnings(\"ignore\", category=UserWarning, module=\"gym\")"
   ]
  },
  {
   "cell_type": "code",
   "execution_count": 2,
   "id": "8dd8ddab",
   "metadata": {
    "execution": {
     "iopub.execute_input": "2025-10-01T01:34:12.725009Z",
     "iopub.status.busy": "2025-10-01T01:34:12.724695Z",
     "iopub.status.idle": "2025-10-01T01:34:24.464757Z",
     "shell.execute_reply": "2025-10-01T01:34:24.463976Z",
     "shell.execute_reply.started": "2025-10-01T01:34:12.724967Z"
    }
   },
   "outputs": [
    {
     "name": "stderr",
     "output_type": "stream",
     "text": [
      "Gym has been unmaintained since 2022 and does not support NumPy 2.0 amongst other critical functionality.\n",
      "Please upgrade to Gymnasium, the maintained drop-in replacement of Gym, or contact the authors of your software and request that they upgrade.\n",
      "Users of this version of Gym should be able to simply replace 'import gym' with 'import gymnasium as gym' in the vast majority of cases.\n",
      "See the migration guide at https://gymnasium.farama.org/introduction/migration_guide/ for additional information.\n"
     ]
    },
    {
     "data": {
      "text/plain": [
       "<torch._C.Generator at 0x7f53480c7930>"
      ]
     },
     "execution_count": 2,
     "metadata": {},
     "output_type": "execute_result"
    }
   ],
   "source": [
    "import pandas as pd\n",
    "import numpy as np\n",
    "import d3rlpy\n",
    "import torch\n",
    "from d3rlpy.dataset import MDPDataset\n",
    "from d3rlpy.metrics import TDErrorEvaluator          # TD 오차 평가자\n",
    "from d3rlpy.algos import DiscreteCQLConfig           # ✅ 이산 CQL\n",
    "from d3rlpy.constants import ActionSpace             # ✅ 이산 액션 명시\n",
    "from sklearn.model_selection import train_test_split\n",
    "import ast\n",
    "from pathlib import Path\n",
    "import random\n",
    "\n",
    "# 재현성\n",
    "SEED = 42\n",
    "np.random.seed(SEED)\n",
    "random.seed(SEED)\n",
    "torch.manual_seed(SEED)"
   ]
  },
  {
   "cell_type": "code",
   "execution_count": 3,
   "id": "00b573a4",
   "metadata": {
    "execution": {
     "iopub.execute_input": "2025-10-01T01:34:24.466053Z",
     "iopub.status.busy": "2025-10-01T01:34:24.465646Z",
     "iopub.status.idle": "2025-10-01T01:34:24.471049Z",
     "shell.execute_reply": "2025-10-01T01:34:24.470231Z",
     "shell.execute_reply.started": "2025-10-01T01:34:24.466013Z"
    }
   },
   "outputs": [
    {
     "name": "stdout",
     "output_type": "stream",
     "text": [
      "\n",
      "--- 최종 모듈: CQL(Discrete) 모델 학습 및 전략 시뮬레이션 시작 ---\n"
     ]
    }
   ],
   "source": [
    "# ==============================================================================\n",
    "# 0. 파일 경로 설정\n",
    "# ==============================================================================\n",
    "DATA_FILE = \"rl_dataset.csv\"\n",
    "MODEL_SAVE_FILE = \"cql_model.pt\"\n",
    "\n",
    "print(\"\\n--- 최종 모듈: CQL(Discrete) 모델 학습 및 전략 시뮬레이션 시작 ---\")"
   ]
  },
  {
   "cell_type": "code",
   "execution_count": 4,
   "id": "761c2185-4ca0-4840-99fa-7eaa46b2abc2",
   "metadata": {
    "execution": {
     "iopub.execute_input": "2025-10-01T01:34:24.472170Z",
     "iopub.status.busy": "2025-10-01T01:34:24.471854Z",
     "iopub.status.idle": "2025-10-01T01:34:34.110353Z",
     "shell.execute_reply": "2025-10-01T01:34:34.109362Z",
     "shell.execute_reply.started": "2025-10-01T01:34:24.472120Z"
    }
   },
   "outputs": [
    {
     "name": "stdout",
     "output_type": "stream",
     "text": [
      "✅ Step 1.1: 'rl_dataset.csv' 로딩 성공! rows=72313\n",
      "✅ Step 1.2: 데이터 정제 완료! (삭제 0행, 잔여 72313행)\n",
      "ℹ️ 고유 액션: [0, 1, 2, 3] → 인덱스 매핑 0..3\n",
      "ℹ️ 상태 차원: 21, 액션 개수: 4\n"
     ]
    }
   ],
   "source": [
    "# ==============================================================================\n",
    "# 1. 데이터셋 불러오기 및 전처리\n",
    "# ==============================================================================\n",
    "try:\n",
    "    df = pd.read_csv(DATA_FILE)\n",
    "    print(f\"✅ Step 1.1: '{DATA_FILE}' 로딩 성공! rows={len(df)}\")\n",
    "except FileNotFoundError:\n",
    "    print(f\"❌ 오류: '{DATA_FILE}' 파일을 찾을 수 없습니다.\")\n",
    "    sys.exit(1)\n",
    "\n",
    "def safe_literal_eval(s):\n",
    "    if isinstance(s, str):\n",
    "        s = s.replace('nan', 'None').replace('inf', 'None').replace('-inf', 'None')\n",
    "        try:\n",
    "            return ast.literal_eval(s)\n",
    "        except (ValueError, SyntaxError):\n",
    "            return None\n",
    "    return s\n",
    "\n",
    "# 문자열 → 리스트/배열 복구\n",
    "df['STATE'] = df['STATE'].apply(safe_literal_eval)\n",
    "df['NEXT_STATE'] = df['NEXT_STATE'].apply(safe_literal_eval)\n",
    "\n",
    "# 결측 제거\n",
    "before = len(df)\n",
    "df.dropna(subset=['STATE', 'NEXT_STATE', 'ACTION', 'REWARD'], inplace=True)\n",
    "after = len(df)\n",
    "print(f\"✅ Step 1.2: 데이터 정제 완료! (삭제 {before - after}행, 잔여 {after}행)\")\n",
    "\n",
    "# 액션 정수 리맵핑: 0..N-1\n",
    "unique_actions = np.sort(pd.unique(df['ACTION']))\n",
    "action_to_idx = {a: i for i, a in enumerate(unique_actions)}\n",
    "df['ACTION_IDX'] = df['ACTION'].map(action_to_idx).astype(np.int32)\n",
    "num_actions = len(unique_actions)\n",
    "print(f\"ℹ️ 고유 액션: {list(unique_actions)} → 인덱스 매핑 0..{num_actions-1}\")\n",
    "\n",
    "# 보상/상태 타입\n",
    "df['REWARD'] = df['REWARD'].astype(np.float32)\n",
    "\n",
    "# 상태를 float32 ndarray로 보장\n",
    "def to_f32_array(x):\n",
    "    arr = np.array(x, dtype=np.float32)\n",
    "    return arr\n",
    "\n",
    "df['STATE'] = df['STATE'].apply(to_f32_array)\n",
    "df['NEXT_STATE'] = df['NEXT_STATE'].apply(to_f32_array)\n",
    "\n",
    "# 모든 상태 벡터 길이가 동일한지 확인\n",
    "state_dims = {s.shape for s in df['STATE']}\n",
    "if len(state_dims) != 1:\n",
    "    raise ValueError(f\"STATE 차원이 일치하지 않습니다: {state_dims}\")\n",
    "state_dim = list(state_dims)[0][0]\n",
    "print(f\"ℹ️ 상태 차원: {state_dim}, 액션 개수: {num_actions}\")"
   ]
  },
  {
   "cell_type": "code",
   "execution_count": 5,
   "id": "887276b0-2bf8-4c5a-ba07-50ce02b61f44",
   "metadata": {
    "execution": {
     "iopub.execute_input": "2025-10-01T01:34:34.112788Z",
     "iopub.status.busy": "2025-10-01T01:34:34.112467Z",
     "iopub.status.idle": "2025-10-01T01:34:34.484479Z",
     "shell.execute_reply": "2025-10-01T01:34:34.483684Z",
     "shell.execute_reply.started": "2025-10-01T01:34:34.112758Z"
    }
   },
   "outputs": [
    {
     "name": "stdout",
     "output_type": "stream",
     "text": [
      "✅ Step 2.1: 데이터셋 분리 완료! (train=57850, test=14463)\n",
      "\u001b[2m2025-10-01 10:34.34\u001b[0m [\u001b[32m\u001b[1minfo     \u001b[0m] \u001b[1mSignatures have been automatically determined.\u001b[0m \u001b[36maction_signature\u001b[0m=\u001b[35mSignature(dtype=[dtype('int32')], shape=[(1,)])\u001b[0m \u001b[36mobservation_signature\u001b[0m=\u001b[35mSignature(dtype=[dtype('float32')], shape=[(21,)])\u001b[0m \u001b[36mreward_signature\u001b[0m=\u001b[35mSignature(dtype=[dtype('float32')], shape=[(1,)])\u001b[0m\n",
      "✅ Step 2.2: 학습용 d3rlpy 데이터셋 생성 완료!\n",
      "\u001b[2m2025-10-01 10:34.34\u001b[0m [\u001b[32m\u001b[1minfo     \u001b[0m] \u001b[1mSignatures have been automatically determined.\u001b[0m \u001b[36maction_signature\u001b[0m=\u001b[35mSignature(dtype=[dtype('int32')], shape=[(1,)])\u001b[0m \u001b[36mobservation_signature\u001b[0m=\u001b[35mSignature(dtype=[dtype('float32')], shape=[(21,)])\u001b[0m \u001b[36mreward_signature\u001b[0m=\u001b[35mSignature(dtype=[dtype('float32')], shape=[(1,)])\u001b[0m\n",
      "✅ Step 2.3: 테스트용 d3rlpy 데이터셋 생성 완료!\n"
     ]
    }
   ],
   "source": [
    "# ==============================================================================\n",
    "# 2. d3rlpy 데이터셋 생성\n",
    "# ==============================================================================\n",
    "train_df, test_df = train_test_split(df, test_size=0.2, shuffle=False, random_state=SEED)\n",
    "print(\"✅ Step 2.1: 데이터셋 분리 완료! \"\n",
    "      f\"(train={len(train_df)}, test={len(test_df)})\")\n",
    "\n",
    "# 에피소드 경계 표시(단일 에피소드 가정: 마지막만 terminal=1.0)\n",
    "train_terminals = np.zeros(len(train_df), dtype=np.float32)\n",
    "train_terminals[-1] = 1.0\n",
    "test_terminals = np.zeros(len(test_df), dtype=np.float32)\n",
    "test_terminals[-1] = 1.0\n",
    "\n",
    "train_obs = np.stack(train_df['STATE'].to_list()).astype(np.float32)\n",
    "test_obs  = np.stack(test_df['STATE'].to_list()).astype(np.float32)\n",
    "\n",
    "train_actions = train_df['ACTION_IDX'].values.astype(np.int32)\n",
    "test_actions  = test_df['ACTION_IDX'].values.astype(np.int32)\n",
    "\n",
    "train_rewards = train_df['REWARD'].values.astype(np.float32)\n",
    "test_rewards  = test_df['REWARD'].values.astype(np.float32)\n",
    "\n",
    "# ✅ 이산 액션 공간/크기 명시\n",
    "train_dataset = MDPDataset(\n",
    "    observations=train_obs,\n",
    "    actions=train_actions,\n",
    "    rewards=train_rewards,\n",
    "    terminals=train_terminals,\n",
    "    action_space=ActionSpace.DISCRETE,\n",
    "    action_size=num_actions\n",
    ")\n",
    "print(\"✅ Step 2.2: 학습용 d3rlpy 데이터셋 생성 완료!\")\n",
    "\n",
    "test_dataset = MDPDataset(\n",
    "    observations=test_obs,\n",
    "    actions=test_actions,\n",
    "    rewards=test_rewards,\n",
    "    terminals=test_terminals,\n",
    "    action_space=ActionSpace.DISCRETE,\n",
    "    action_size=num_actions\n",
    ")\n",
    "print(\"✅ Step 2.3: 테스트용 d3rlpy 데이터셋 생성 완료!\")"
   ]
  },
  {
   "cell_type": "code",
   "execution_count": 7,
   "id": "7e356273-6634-4480-8c6a-09b59d94a7db",
   "metadata": {
    "execution": {
     "iopub.execute_input": "2025-10-01T01:35:50.923358Z",
     "iopub.status.busy": "2025-10-01T01:35:50.922961Z",
     "iopub.status.idle": "2025-10-01T01:37:15.423562Z",
     "shell.execute_reply": "2025-10-01T01:37:15.422271Z",
     "shell.execute_reply.started": "2025-10-01T01:35:50.923331Z"
    }
   },
   "outputs": [
    {
     "name": "stdout",
     "output_type": "stream",
     "text": [
      "\n",
      "--- 사용할 연산 장치: CUDA:0 ---\n",
      "--- Step 3: CQL(Discrete) 모델 학습 시작 ---\n",
      "\u001b[2m2025-10-01 10:35.50\u001b[0m [\u001b[32m\u001b[1minfo     \u001b[0m] \u001b[1mdataset info                  \u001b[0m \u001b[36mdataset_info\u001b[0m=\u001b[35mDatasetInfo(observation_signature=Signature(dtype=[dtype('float32')], shape=[(21,)]), action_signature=Signature(dtype=[dtype('int32')], shape=[(1,)]), reward_signature=Signature(dtype=[dtype('float32')], shape=[(1,)]), action_space=<ActionSpace.DISCRETE: 2>, action_size=4)\u001b[0m\n",
      "\u001b[2m2025-10-01 10:35.50\u001b[0m [\u001b[32m\u001b[1mdebug    \u001b[0m] \u001b[1mBuilding models...            \u001b[0m\n",
      "\u001b[2m2025-10-01 10:35.51\u001b[0m [\u001b[32m\u001b[1mdebug    \u001b[0m] \u001b[1mModels have been built.       \u001b[0m\n",
      "\u001b[2m2025-10-01 10:35.51\u001b[0m [\u001b[32m\u001b[1minfo     \u001b[0m] \u001b[1mDirectory is created at d3rlpy_logs/DiscreteCQL\u001b[0m\n",
      "\u001b[2m2025-10-01 10:35.51\u001b[0m [\u001b[32m\u001b[1minfo     \u001b[0m] \u001b[1mParameters                    \u001b[0m \u001b[36mparams\u001b[0m=\u001b[35m{'observation_shape': [21], 'action_size': 4, 'config': {'type': 'discrete_cql', 'params': {'batch_size': 32, 'gamma': 0.99, 'observation_scaler': {'type': 'none', 'params': {}}, 'action_scaler': {'type': 'none', 'params': {}}, 'reward_scaler': {'type': 'none', 'params': {}}, 'compile_graph': False, 'learning_rate': 6.25e-05, 'optim_factory': {'type': 'adam', 'params': {'clip_grad_norm': None, 'lr_scheduler_factory': {'type': 'none', 'params': {}}, 'betas': [0.9, 0.999], 'eps': 1e-08, 'weight_decay': 0, 'amsgrad': False}}, 'encoder_factory': {'type': 'default', 'params': {'activation': 'relu', 'use_batch_norm': False, 'dropout_rate': None}}, 'q_func_factory': {'type': 'mean', 'params': {'share_encoder': False}}, 'n_critics': 1, 'target_update_interval': 8000, 'alpha': 1.0}}}\u001b[0m\n"
     ]
    },
    {
     "data": {
      "application/vnd.jupyter.widget-view+json": {
       "model_id": "27cfa0ad0b0049f894204203835ea0e0",
       "version_major": 2,
       "version_minor": 0
      },
      "text/plain": [
       "Epoch 1/10:   0%|          | 0/1000 [00:00<?, ?it/s]"
      ]
     },
     "metadata": {},
     "output_type": "display_data"
    },
    {
     "name": "stdout",
     "output_type": "stream",
     "text": [
      "\u001b[2m2025-10-01 10:36.02\u001b[0m [\u001b[32m\u001b[1minfo     \u001b[0m] \u001b[1mDiscreteCQL: epoch=1 step=1000\u001b[0m \u001b[36mepoch\u001b[0m=\u001b[35m1\u001b[0m \u001b[36mmetrics\u001b[0m=\u001b[35m{'time_sample_batch': 0.000843367338180542, 'time_algorithm_update': 0.00927007532119751, 'loss': nan, 'td_loss': nan, 'conservative_loss': nan, 'time_step': 0.010192923784255981, 'td_error': nan}\u001b[0m \u001b[36mstep\u001b[0m=\u001b[35m1000\u001b[0m\n",
      "\u001b[2m2025-10-01 10:36.02\u001b[0m [\u001b[32m\u001b[1minfo     \u001b[0m] \u001b[1mModel parameters are saved to d3rlpy_logs/DiscreteCQL/model_1000.d3\u001b[0m\n"
     ]
    },
    {
     "data": {
      "application/vnd.jupyter.widget-view+json": {
       "model_id": "ba93112faeb34f54a1c597043e998428",
       "version_major": 2,
       "version_minor": 0
      },
      "text/plain": [
       "Epoch 2/10:   0%|          | 0/1000 [00:00<?, ?it/s]"
      ]
     },
     "metadata": {},
     "output_type": "display_data"
    },
    {
     "name": "stdout",
     "output_type": "stream",
     "text": [
      "\u001b[2m2025-10-01 10:36.10\u001b[0m [\u001b[32m\u001b[1minfo     \u001b[0m] \u001b[1mDiscreteCQL: epoch=2 step=2000\u001b[0m \u001b[36mepoch\u001b[0m=\u001b[35m2\u001b[0m \u001b[36mmetrics\u001b[0m=\u001b[35m{'time_sample_batch': 0.0006532819271087647, 'time_algorithm_update': 0.0063336389064788815, 'loss': nan, 'td_loss': nan, 'conservative_loss': nan, 'time_step': 0.00705573296546936, 'td_error': nan}\u001b[0m \u001b[36mstep\u001b[0m=\u001b[35m2000\u001b[0m\n",
      "\u001b[2m2025-10-01 10:36.10\u001b[0m [\u001b[32m\u001b[1minfo     \u001b[0m] \u001b[1mModel parameters are saved to d3rlpy_logs/DiscreteCQL/model_2000.d3\u001b[0m\n"
     ]
    },
    {
     "data": {
      "application/vnd.jupyter.widget-view+json": {
       "model_id": "6718bb7f87d9464282c42b3f27ce6cd6",
       "version_major": 2,
       "version_minor": 0
      },
      "text/plain": [
       "Epoch 3/10:   0%|          | 0/1000 [00:00<?, ?it/s]"
      ]
     },
     "metadata": {},
     "output_type": "display_data"
    },
    {
     "name": "stdout",
     "output_type": "stream",
     "text": [
      "\u001b[2m2025-10-01 10:36.17\u001b[0m [\u001b[32m\u001b[1minfo     \u001b[0m] \u001b[1mDiscreteCQL: epoch=3 step=3000\u001b[0m \u001b[36mepoch\u001b[0m=\u001b[35m3\u001b[0m \u001b[36mmetrics\u001b[0m=\u001b[35m{'time_sample_batch': 0.00061128568649292, 'time_algorithm_update': 0.0056067447662353515, 'loss': nan, 'td_loss': nan, 'conservative_loss': nan, 'time_step': 0.006281739234924317, 'td_error': nan}\u001b[0m \u001b[36mstep\u001b[0m=\u001b[35m3000\u001b[0m\n",
      "\u001b[2m2025-10-01 10:36.17\u001b[0m [\u001b[32m\u001b[1minfo     \u001b[0m] \u001b[1mModel parameters are saved to d3rlpy_logs/DiscreteCQL/model_3000.d3\u001b[0m\n"
     ]
    },
    {
     "data": {
      "application/vnd.jupyter.widget-view+json": {
       "model_id": "a9d3a80f18bb43dd9daa92d7ad74d692",
       "version_major": 2,
       "version_minor": 0
      },
      "text/plain": [
       "Epoch 4/10:   0%|          | 0/1000 [00:00<?, ?it/s]"
      ]
     },
     "metadata": {},
     "output_type": "display_data"
    },
    {
     "name": "stdout",
     "output_type": "stream",
     "text": [
      "\u001b[2m2025-10-01 10:36.26\u001b[0m [\u001b[32m\u001b[1minfo     \u001b[0m] \u001b[1mDiscreteCQL: epoch=4 step=4000\u001b[0m \u001b[36mepoch\u001b[0m=\u001b[35m4\u001b[0m \u001b[36mmetrics\u001b[0m=\u001b[35m{'time_sample_batch': 0.0006609346866607666, 'time_algorithm_update': 0.007103270769119262, 'loss': nan, 'td_loss': nan, 'conservative_loss': nan, 'time_step': 0.007817338943481446, 'td_error': nan}\u001b[0m \u001b[36mstep\u001b[0m=\u001b[35m4000\u001b[0m\n",
      "\u001b[2m2025-10-01 10:36.26\u001b[0m [\u001b[32m\u001b[1minfo     \u001b[0m] \u001b[1mModel parameters are saved to d3rlpy_logs/DiscreteCQL/model_4000.d3\u001b[0m\n"
     ]
    },
    {
     "data": {
      "application/vnd.jupyter.widget-view+json": {
       "model_id": "c894067f3cd64c28ad8e8d70e3189a19",
       "version_major": 2,
       "version_minor": 0
      },
      "text/plain": [
       "Epoch 5/10:   0%|          | 0/1000 [00:00<?, ?it/s]"
      ]
     },
     "metadata": {},
     "output_type": "display_data"
    },
    {
     "name": "stdout",
     "output_type": "stream",
     "text": [
      "\u001b[2m2025-10-01 10:36.34\u001b[0m [\u001b[32m\u001b[1minfo     \u001b[0m] \u001b[1mDiscreteCQL: epoch=5 step=5000\u001b[0m \u001b[36mepoch\u001b[0m=\u001b[35m5\u001b[0m \u001b[36mmetrics\u001b[0m=\u001b[35m{'time_sample_batch': 0.0006096618175506592, 'time_algorithm_update': 0.006669107675552368, 'loss': nan, 'td_loss': nan, 'conservative_loss': nan, 'time_step': 0.007326644659042358, 'td_error': nan}\u001b[0m \u001b[36mstep\u001b[0m=\u001b[35m5000\u001b[0m\n",
      "\u001b[2m2025-10-01 10:36.34\u001b[0m [\u001b[32m\u001b[1minfo     \u001b[0m] \u001b[1mModel parameters are saved to d3rlpy_logs/DiscreteCQL/model_5000.d3\u001b[0m\n"
     ]
    },
    {
     "data": {
      "application/vnd.jupyter.widget-view+json": {
       "model_id": "035f29a055bc421f9a537578446aaf02",
       "version_major": 2,
       "version_minor": 0
      },
      "text/plain": [
       "Epoch 6/10:   0%|          | 0/1000 [00:00<?, ?it/s]"
      ]
     },
     "metadata": {},
     "output_type": "display_data"
    },
    {
     "name": "stdout",
     "output_type": "stream",
     "text": [
      "\u001b[2m2025-10-01 10:36.43\u001b[0m [\u001b[32m\u001b[1minfo     \u001b[0m] \u001b[1mDiscreteCQL: epoch=6 step=6000\u001b[0m \u001b[36mepoch\u001b[0m=\u001b[35m6\u001b[0m \u001b[36mmetrics\u001b[0m=\u001b[35m{'time_sample_batch': 0.0006359171867370606, 'time_algorithm_update': 0.006754778623580933, 'loss': nan, 'td_loss': nan, 'conservative_loss': nan, 'time_step': 0.0074475986957550045, 'td_error': nan}\u001b[0m \u001b[36mstep\u001b[0m=\u001b[35m6000\u001b[0m\n",
      "\u001b[2m2025-10-01 10:36.43\u001b[0m [\u001b[32m\u001b[1minfo     \u001b[0m] \u001b[1mModel parameters are saved to d3rlpy_logs/DiscreteCQL/model_6000.d3\u001b[0m\n"
     ]
    },
    {
     "data": {
      "application/vnd.jupyter.widget-view+json": {
       "model_id": "54f892b97ce94b4b9f6b9b0ce906fa46",
       "version_major": 2,
       "version_minor": 0
      },
      "text/plain": [
       "Epoch 7/10:   0%|          | 0/1000 [00:00<?, ?it/s]"
      ]
     },
     "metadata": {},
     "output_type": "display_data"
    },
    {
     "name": "stdout",
     "output_type": "stream",
     "text": [
      "\u001b[2m2025-10-01 10:36.50\u001b[0m [\u001b[32m\u001b[1minfo     \u001b[0m] \u001b[1mDiscreteCQL: epoch=7 step=7000\u001b[0m \u001b[36mepoch\u001b[0m=\u001b[35m7\u001b[0m \u001b[36mmetrics\u001b[0m=\u001b[35m{'time_sample_batch': 0.0006105198860168457, 'time_algorithm_update': 0.005802124738693237, 'loss': nan, 'td_loss': nan, 'conservative_loss': nan, 'time_step': 0.00646203351020813, 'td_error': nan}\u001b[0m \u001b[36mstep\u001b[0m=\u001b[35m7000\u001b[0m\n",
      "\u001b[2m2025-10-01 10:36.50\u001b[0m [\u001b[32m\u001b[1minfo     \u001b[0m] \u001b[1mModel parameters are saved to d3rlpy_logs/DiscreteCQL/model_7000.d3\u001b[0m\n"
     ]
    },
    {
     "data": {
      "application/vnd.jupyter.widget-view+json": {
       "model_id": "b1008f58b8654fc393eb2f59cd0e9d16",
       "version_major": 2,
       "version_minor": 0
      },
      "text/plain": [
       "Epoch 8/10:   0%|          | 0/1000 [00:00<?, ?it/s]"
      ]
     },
     "metadata": {},
     "output_type": "display_data"
    },
    {
     "name": "stdout",
     "output_type": "stream",
     "text": [
      "\u001b[2m2025-10-01 10:36.59\u001b[0m [\u001b[32m\u001b[1minfo     \u001b[0m] \u001b[1mDiscreteCQL: epoch=8 step=8000\u001b[0m \u001b[36mepoch\u001b[0m=\u001b[35m8\u001b[0m \u001b[36mmetrics\u001b[0m=\u001b[35m{'time_sample_batch': 0.0006413362026214599, 'time_algorithm_update': 0.0067825338840484615, 'loss': nan, 'td_loss': nan, 'conservative_loss': nan, 'time_step': 0.0074730064868927006, 'td_error': nan}\u001b[0m \u001b[36mstep\u001b[0m=\u001b[35m8000\u001b[0m\n",
      "\u001b[2m2025-10-01 10:36.59\u001b[0m [\u001b[32m\u001b[1minfo     \u001b[0m] \u001b[1mModel parameters are saved to d3rlpy_logs/DiscreteCQL/model_8000.d3\u001b[0m\n"
     ]
    },
    {
     "data": {
      "application/vnd.jupyter.widget-view+json": {
       "model_id": "da89c603085d4caeacc95bad0c53c6f8",
       "version_major": 2,
       "version_minor": 0
      },
      "text/plain": [
       "Epoch 9/10:   0%|          | 0/1000 [00:00<?, ?it/s]"
      ]
     },
     "metadata": {},
     "output_type": "display_data"
    },
    {
     "name": "stdout",
     "output_type": "stream",
     "text": [
      "\u001b[2m2025-10-01 10:37.07\u001b[0m [\u001b[32m\u001b[1minfo     \u001b[0m] \u001b[1mDiscreteCQL: epoch=9 step=9000\u001b[0m \u001b[36mepoch\u001b[0m=\u001b[35m9\u001b[0m \u001b[36mmetrics\u001b[0m=\u001b[35m{'time_sample_batch': 0.0006965227127075195, 'time_algorithm_update': 0.006552992820739746, 'loss': nan, 'td_loss': nan, 'conservative_loss': nan, 'time_step': 0.0072979569435119625, 'td_error': nan}\u001b[0m \u001b[36mstep\u001b[0m=\u001b[35m9000\u001b[0m\n",
      "\u001b[2m2025-10-01 10:37.07\u001b[0m [\u001b[32m\u001b[1minfo     \u001b[0m] \u001b[1mModel parameters are saved to d3rlpy_logs/DiscreteCQL/model_9000.d3\u001b[0m\n"
     ]
    },
    {
     "data": {
      "application/vnd.jupyter.widget-view+json": {
       "model_id": "c54c819115444e3fab7e95ada9e076b8",
       "version_major": 2,
       "version_minor": 0
      },
      "text/plain": [
       "Epoch 10/10:   0%|          | 0/1000 [00:00<?, ?it/s]"
      ]
     },
     "metadata": {},
     "output_type": "display_data"
    },
    {
     "name": "stdout",
     "output_type": "stream",
     "text": [
      "\u001b[2m2025-10-01 10:37.15\u001b[0m [\u001b[32m\u001b[1minfo     \u001b[0m] \u001b[1mDiscreteCQL: epoch=10 step=10000\u001b[0m \u001b[36mepoch\u001b[0m=\u001b[35m10\u001b[0m \u001b[36mmetrics\u001b[0m=\u001b[35m{'time_sample_batch': 0.0006782474517822265, 'time_algorithm_update': 0.006672014713287353, 'loss': nan, 'td_loss': nan, 'conservative_loss': nan, 'time_step': 0.007398725986480713, 'td_error': nan}\u001b[0m \u001b[36mstep\u001b[0m=\u001b[35m10000\u001b[0m\n",
      "\u001b[2m2025-10-01 10:37.15\u001b[0m [\u001b[32m\u001b[1minfo     \u001b[0m] \u001b[1mModel parameters are saved to d3rlpy_logs/DiscreteCQL/model_10000.d3\u001b[0m\n",
      "\n",
      "✅ Step 3: CQL 모델 학습 완료!\n"
     ]
    }
   ],
   "source": [
    "# ==============================================================================\n",
    "# 3. CQL(Discrete) 모델 정의 및 학습\n",
    "# ==============================================================================\n",
    "device = 'cuda:0' if torch.cuda.is_available() else 'cpu'\n",
    "print(f\"\\n--- 사용할 연산 장치: {device.upper()} ---\")\n",
    "\n",
    "# ✅ 이산 CQL 구성 (필요 시 하이퍼파라미터 조정)\n",
    "cql = DiscreteCQLConfig().create(device=device)\n",
    "\n",
    "# ✅ 최신 방식: Evaluator 객체 사용\n",
    "td_evaluator = TDErrorEvaluator()  # episodes 미지정 → 학습 데이터셋 기준 평가\n",
    "\n",
    "print(\"--- Step 3: CQL(Discrete) 모델 학습 시작 ---\")\n",
    "cql.fit(\n",
    "    train_dataset,\n",
    "    n_steps=10_000,\n",
    "    n_steps_per_epoch=1_000,\n",
    "    evaluators={'td_error': td_evaluator},\n",
    "    with_timestamp=False\n",
    ")  # ← random_state 제거\n",
    "print(\"\\n✅ Step 3: CQL 모델 학습 완료!\")"
   ]
  },
  {
   "cell_type": "code",
   "execution_count": 10,
   "id": "a923a950-b2ac-49f7-b808-b7962ebb546f",
   "metadata": {
    "execution": {
     "iopub.execute_input": "2025-10-01T01:40:28.744343Z",
     "iopub.status.busy": "2025-10-01T01:40:28.743965Z",
     "iopub.status.idle": "2025-10-01T01:40:28.865042Z",
     "shell.execute_reply": "2025-10-01T01:40:28.864311Z",
     "shell.execute_reply.started": "2025-10-01T01:40:28.744317Z"
    }
   },
   "outputs": [
    {
     "name": "stdout",
     "output_type": "stream",
     "text": [
      "\n",
      "--- 🤖 AI 전략 추천 ---\n",
      "현재 가게 상태(분석 결과): [ 2.40e-01 -1.70e-01 -2.00e-01 -3.20e-01 -1.00e-01 -3.00e-02  3.00e-02\n",
      "  6.40e-01 -1.00e-01  1.07e+00  9.00e-02  5.60e-01  4.20e-01  2.50e-01\n",
      " -1.30e-01  1.70e-01       nan  0.00e+00  1.00e+02  6.00e+00  0.00e+00]\n",
      "예측 액션 인덱스: 0 (원본 라벨: 0)\n",
      "\n",
      "========================================\n",
      "AI 추천 최적 전략: 전략 0 (배달 축소 & 신규 고객 유치 감소)\n",
      "========================================\n"
     ]
    }
   ],
   "source": [
    "# ==============================================================================\n",
    "# 4. 학습된 AI를 이용한 전략 추천\n",
    "# ==============================================================================\n",
    "sample_state = train_obs[0]\n",
    "best_action_idx = int(cql.predict(np.expand_dims(sample_state, axis=0))[0])  # ← 배치 차원 추가\n",
    "\n",
    "# 원 액션 라벨로 역매핑(가독성)\n",
    "idx_to_action = {v: k for k, v in action_to_idx.items()}\n",
    "best_action_label = idx_to_action.get(best_action_idx, best_action_idx)\n",
    "\n",
    "action_map = {\n",
    "    0: \"전략 0 (배달 축소 & 신규 고객 유치 감소)\",\n",
    "    1: \"전략 1 (배달 축소 & 신규 고객 유치 강화)\",\n",
    "    2: \"전략 2 (배달 강화 & 신규 고객 유치 감소)\",\n",
    "    3: \"전략 3 (배달 강화 & 신규 고객 유치 강화)\"\n",
    "}\n",
    "readable = action_map.get(best_action_idx, f\"액션 {best_action_idx}\")\n",
    "\n",
    "print(\"\\n--- 🤖 AI 전략 추천 ---\")\n",
    "print(f\"현재 가게 상태(분석 결과): {np.round(sample_state, 2)}\")\n",
    "print(f\"예측 액션 인덱스: {best_action_idx} (원본 라벨: {best_action_label})\")\n",
    "print(\"\\n\" + \"=\"*40)\n",
    "print(f\"AI 추천 최적 전략: {readable}\")\n",
    "print(\"=\"*40)"
   ]
  },
  {
   "cell_type": "code",
   "execution_count": 11,
   "id": "3b5a199c-9ce1-499e-a116-232c6400739e",
   "metadata": {
    "execution": {
     "iopub.execute_input": "2025-10-01T01:40:29.941090Z",
     "iopub.status.busy": "2025-10-01T01:40:29.940674Z",
     "iopub.status.idle": "2025-10-01T01:40:29.965958Z",
     "shell.execute_reply": "2025-10-01T01:40:29.965045Z",
     "shell.execute_reply.started": "2025-10-01T01:40:29.941063Z"
    }
   },
   "outputs": [
    {
     "name": "stdout",
     "output_type": "stream",
     "text": [
      "\n",
      "✅ 최종 학습된 AI 모델이 'cql_model.pt' 파일로 저장되었습니다.\n",
      "\n",
      "🎉 모든 핵심 AI 개발 과정을 완료했습니다! 🎉\n"
     ]
    }
   ],
   "source": [
    "# ==============================================================================\n",
    "# 5. 최종 모델 저장\n",
    "# ==============================================================================\n",
    "cql.save_model(MODEL_SAVE_FILE)\n",
    "print(f\"\\n✅ 최종 학습된 AI 모델이 '{MODEL_SAVE_FILE}' 파일로 저장되었습니다.\")\n",
    "print(\"\\n🎉 모든 핵심 AI 개발 과정을 완료했습니다! 🎉\")"
   ]
  },
  {
   "cell_type": "code",
   "execution_count": null,
   "id": "34ef5e55-bbc5-4716-ac2e-403c678abbb9",
   "metadata": {},
   "outputs": [],
   "source": []
  }
 ],
 "metadata": {
  "kernelspec": {
   "display_name": "base",
   "language": "python",
   "name": "python3"
  },
  "language_info": {
   "codemirror_mode": {
    "name": "ipython",
    "version": 3
   },
   "file_extension": ".py",
   "mimetype": "text/x-python",
   "name": "python",
   "nbconvert_exporter": "python",
   "pygments_lexer": "ipython3",
   "version": "3.12.3"
  }
 },
 "nbformat": 4,
 "nbformat_minor": 5
}
